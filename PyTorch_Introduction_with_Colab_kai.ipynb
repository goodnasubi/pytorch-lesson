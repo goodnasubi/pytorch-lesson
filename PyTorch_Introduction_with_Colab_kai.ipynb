{
  "nbformat": 4,
  "nbformat_minor": 0,
  "metadata": {
    "colab": {
      "name": "PyTorch Introduction with Colab",
      "version": "0.3.2",
      "provenance": [],
      "collapsed_sections": [],
      "include_colab_link": true
    },
    "kernelspec": {
      "name": "python3",
      "display_name": "Python 3"
    },
    "accelerator": "GPU"
  },
  "cells": [
    {
      "cell_type": "markdown",
      "metadata": {
        "id": "view-in-github",
        "colab_type": "text"
      },
      "source": [
        "<a href=\"https://colab.research.google.com/github/goodnasubi/pytorch-lesson/blob/master/PyTorch_Introduction_with_Colab_kai.ipynb\" target=\"_parent\"><img src=\"https://colab.research.google.com/assets/colab-badge.svg\" alt=\"Open In Colab\"/></a>"
      ]
    },
    {
      "cell_type": "markdown",
      "metadata": {
        "id": "GtiQjkq8PnI6",
        "colab_type": "text"
      },
      "source": [
        "# Introduction to Deep Learning for Computer Vision using PyTorch\n",
        "\n",
        "### [Kevin McGuinness](http://www.eeng.dcu.ie/~mcguinne/), DCU\n",
        "\n",
        "kevin.mcguinness@dcu.ie\n",
        "\n",
        "\n",
        "---\n",
        "\n",
        "\n",
        "\n",
        "\n",
        "**Today:**\n",
        "\n",
        "- Introduce the free [Google Colabratory](https://colab.research.google.com) cloud service\n",
        "- Work with the [PyTorch](https://pytorch.org/) deep learning framework\n",
        "- Show how to specify a simple deep learning model for handwritten digit classification\n",
        "- Show how to train the model on a GPU\n",
        "- Understand data loaders and datasets in PyTorch\n",
        "- Understand training data, validation data, test data\n",
        "- Plot learning curves\n",
        "- Track progress\n",
        "- Error analysis"
      ]
    },
    {
      "cell_type": "code",
      "metadata": {
        "id": "p2mwWav-iMPh",
        "colab_type": "code",
        "outputId": "feddfe00-5f13-47b3-fa62-2fe3cc192041",
        "colab": {
          "base_uri": "https://localhost:8080/",
          "height": 52
        }
      },
      "source": [
        "import sys\n",
        "print(sys.version)"
      ],
      "execution_count": 1,
      "outputs": [
        {
          "output_type": "stream",
          "text": [
            "3.6.7 (default, Oct 22 2018, 11:32:17) \n",
            "[GCC 8.2.0]\n"
          ],
          "name": "stdout"
        }
      ]
    },
    {
      "cell_type": "markdown",
      "metadata": {
        "id": "-MGvs0jJ0JgA",
        "colab_type": "text"
      },
      "source": [
        "# Enable GPU acceleration\n",
        "\n",
        "Open to the Edit menu and select *Notebook settings* and then select *GPU* under hardware accelerator.\n",
        "\n",
        "Change the line below to ``device = 'cpu'`` to run on the CPU instead."
      ]
    },
    {
      "cell_type": "code",
      "metadata": {
        "id": "eiSDmqiA2es2",
        "colab_type": "code",
        "colab": {}
      },
      "source": [
        "# make sure to enable GPU acceleration!\n",
        "device = 'cuda'"
      ],
      "execution_count": 0,
      "outputs": []
    },
    {
      "cell_type": "markdown",
      "metadata": {
        "id": "VdLn57KDkGHO",
        "colab_type": "text"
      },
      "source": [
        "# Install PyTorch \n",
        "\n",
        "Google colab doesn't have PyTorch installed by default, but it can be easily installed using the Python package manager *pip*. \n",
        "\n",
        "This will take a minute to install."
      ]
    },
    {
      "cell_type": "code",
      "metadata": {
        "id": "XiHYo3hEhwdk",
        "colab_type": "code",
        "outputId": "772558b5-013b-45d2-e4c2-e1c8ea3f32b5",
        "colab": {
          "base_uri": "https://localhost:8080/",
          "height": 142
        }
      },
      "source": [
        "!pip3 install torch torchvision"
      ],
      "execution_count": 3,
      "outputs": [
        {
          "output_type": "stream",
          "text": [
            "Requirement already satisfied: torch in /usr/local/lib/python3.6/dist-packages (1.1.0)\n",
            "Requirement already satisfied: torchvision in /usr/local/lib/python3.6/dist-packages (0.3.0)\n",
            "Requirement already satisfied: numpy in /usr/local/lib/python3.6/dist-packages (from torch) (1.16.4)\n",
            "Requirement already satisfied: six in /usr/local/lib/python3.6/dist-packages (from torchvision) (1.12.0)\n",
            "Requirement already satisfied: pillow>=4.1.1 in /usr/local/lib/python3.6/dist-packages (from torchvision) (4.3.0)\n",
            "Requirement already satisfied: olefile in /usr/local/lib/python3.6/dist-packages (from pillow>=4.1.1->torchvision) (0.46)\n"
          ],
          "name": "stdout"
        }
      ]
    },
    {
      "cell_type": "markdown",
      "metadata": {
        "id": "Ywspo1LiklkS",
        "colab_type": "text"
      },
      "source": [
        "# Import packages\n",
        "\n",
        "Find the PyTorch docs at https://pytorch.org/docs/stable/index.html \n",
        "\n",
        "Tutorials: https://pytorch.org/tutorials/"
      ]
    },
    {
      "cell_type": "code",
      "metadata": {
        "id": "V8TdKha5hoCs",
        "colab_type": "code",
        "colab": {}
      },
      "source": [
        "import numpy as np\n",
        "\n",
        "import torch\n",
        "import torch.nn.functional as F\n",
        "import torch.nn as nn\n",
        "import torch.optim as optim\n",
        "import torchvision.transforms as transforms\n",
        "\n",
        "from torchvision.datasets import MNIST\n",
        "from torch.utils.data import DataLoader\n",
        "\n",
        "import matplotlib.pyplot as plt\n"
      ],
      "execution_count": 0,
      "outputs": []
    },
    {
      "cell_type": "code",
      "metadata": {
        "id": "3rmqhdjOXc96",
        "colab_type": "code",
        "outputId": "38ba73b5-eb6f-49a5-d7e6-b92d92a4ed0e",
        "colab": {
          "base_uri": "https://localhost:8080/",
          "height": 35
        }
      },
      "source": [
        "print('PyTorch version:', torch.__version__)"
      ],
      "execution_count": 4,
      "outputs": [
        {
          "output_type": "stream",
          "text": [
            "PyTorch version: 1.1.0\n"
          ],
          "name": "stdout"
        }
      ]
    },
    {
      "cell_type": "code",
      "metadata": {
        "id": "9bexQC8PaL9w",
        "colab_type": "code",
        "colab": {}
      },
      "source": [
        "# Set random seed for reproducability\n",
        "torch.manual_seed(271828)\n",
        "np.random.seed(271728)"
      ],
      "execution_count": 0,
      "outputs": []
    },
    {
      "cell_type": "markdown",
      "metadata": {
        "id": "mTq9KUW_7dct",
        "colab_type": "text"
      },
      "source": [
        "# Specify a model architecture\n",
        "\n",
        "We will use a simple CNN with two conv layers, one pooling layer, two fully connected, and some dropout.\n",
        "\n",
        "![Model Architecture](http://www.eeng.dcu.ie/~mcguinne/media/cnn.png =400x)"
      ]
    },
    {
      "cell_type": "code",
      "metadata": {
        "id": "KAaUNorqjKO_",
        "colab_type": "code",
        "colab": {}
      },
      "source": [
        "class SimpleCNN(nn.Module):\n",
        "\n",
        "    def __init__(self, num_channels=1, num_classes=10):\n",
        "        super(SimpleCNN, self).__init__()\n",
        "        self.conv1 = nn.Conv2d(num_channels, 32, 3, stride=1, padding=1)\n",
        "        self.conv2 = nn.Conv2d(32, 32, 3, stride=1, padding=1)\n",
        "        self.pool1 = nn.MaxPool2d(2)\n",
        "        self.drop1 = nn.Dropout(0.25)\n",
        "        self.fc1 = nn.Linear(14*14*32, 128)\n",
        "        self.drop2 = nn.Dropout(0.5)\n",
        "        self.fc2 = nn.Linear(128, num_classes)\n",
        "        \n",
        "    def forward(self, X):\n",
        "        X = F.relu(self.conv1(X))\n",
        "        X = F.relu(self.conv2(X))\n",
        "        X = self.pool1(X)\n",
        "        X = self.drop1(X)\n",
        "        X = X.reshape(-1, 14*14*32)\n",
        "        X = F.relu(self.fc1(X))\n",
        "        X = self.drop2(X)\n",
        "        X = self.fc2(X)\n",
        "        return X  # logits      "
      ],
      "execution_count": 0,
      "outputs": []
    },
    {
      "cell_type": "markdown",
      "metadata": {
        "id": "HMd2LMRgYjGC",
        "colab_type": "text"
      },
      "source": [
        "relu の代わりに \n",
        "*  ❌softshrinkを使ってみる\n",
        "*  PReLU\n"
      ]
    },
    {
      "cell_type": "code",
      "metadata": {
        "colab_type": "code",
        "id": "wp0La_mkY20T",
        "colab": {}
      },
      "source": [
        "class SimpleCNN(nn.Module):\n",
        "\n",
        "    def __init__(self, num_channels=1, num_classes=10):\n",
        "        super(SimpleCNN, self).__init__()\n",
        "        self.conv1 = nn.Conv2d(num_channels, 32, 3, stride=1, padding=1)\n",
        "        self.conv2 = nn.Conv2d(32, 32, 3, stride=1, padding=1)\n",
        "        self.pool1 = nn.MaxPool2d(2)\n",
        "        self.drop1 = nn.Dropout(0.25)\n",
        "        self.fc1 = nn.Linear(14*14*32, 128)\n",
        "        self.drop2 = nn.Dropout(0.5)\n",
        "        self.fc2 = nn.Linear(128, num_classes)\n",
        "        #self.ss = nn.Softshrink(lambd=0.7)\n",
        "        #self.ss = nn.PReLU()\n",
        "        #self.ss = nn.ReLU()\n",
        "        self.ss = nn.ReLU6()\n",
        "        \n",
        "    def forward(self, X):\n",
        "        X = self.ss(self.conv1(X))\n",
        "        X = self.ss(self.conv2(X))\n",
        "        X = self.pool1(X)\n",
        "        X = self.drop1(X)\n",
        "        X = X.reshape(-1, 14*14*32)\n",
        "        X = self.ss(self.fc1(X))\n",
        "        X = self.drop2(X)\n",
        "        X = self.fc2(X)\n",
        "        return X  # logits      "
      ],
      "execution_count": 0,
      "outputs": []
    },
    {
      "cell_type": "markdown",
      "metadata": {
        "id": "UrynDn0t7rLY",
        "colab_type": "text"
      },
      "source": [
        "# Load the datasets\n",
        "\n",
        "We also need to specify a **transform** here to convert images to torch tensors.\n",
        "\n",
        "I'm adding a **normalization** transform here too so that the images have mean zero and unit variance. This is optional. For some problems (models/datasets) proper normalization is important for performance. For others (e.g. models with batch normalization early on), the importance of normalization is less.\n",
        "\n",
        "PyTorch comes with a built-in dataset class for the MNIST digit classification task in the (optional) ``torchvision`` package. It also has built-in for other common datasets and tasks like CIFAR-10 and ImageNet. See: https://pytorch.org/docs/stable/torchvision/datasets.html\n"
      ]
    },
    {
      "cell_type": "code",
      "metadata": {
        "id": "oe6InO7QnZca",
        "colab_type": "code",
        "colab": {}
      },
      "source": [
        "\n",
        "# transform for the training data\n",
        "train_transform = transforms.Compose([\n",
        "    transforms.ToTensor(),\n",
        "    transforms.Normalize([0.1307], [0.3081])\n",
        "])\n",
        "\n",
        "# use the same transform for the validation data\n",
        "valid_transform = train_transform\n",
        "\n",
        "# load datasets, downloading if needed\n",
        "train_set = MNIST('./data/mnist', train=True, download=True, \n",
        "                  transform=train_transform)\n",
        "valid_set = MNIST('./data/mnist', train=False, download=True, \n",
        "                  transform=valid_transform)"
      ],
      "execution_count": 0,
      "outputs": []
    },
    {
      "cell_type": "code",
      "metadata": {
        "id": "6Sl9tT_Jnym0",
        "colab_type": "code",
        "outputId": "75f420ca-b523-4cef-87af-73ec14e52e0f",
        "colab": {
          "base_uri": "https://localhost:8080/",
          "height": 142
        }
      },
      "source": [
        "print(train_set.train_data.shape)\n",
        "print(valid_set.test_data.shape)"
      ],
      "execution_count": 8,
      "outputs": [
        {
          "output_type": "stream",
          "text": [
            "torch.Size([60000, 28, 28])\n",
            "torch.Size([10000, 28, 28])\n"
          ],
          "name": "stdout"
        },
        {
          "output_type": "stream",
          "text": [
            "/usr/local/lib/python3.6/dist-packages/torchvision/datasets/mnist.py:53: UserWarning: train_data has been renamed data\n",
            "  warnings.warn(\"train_data has been renamed data\")\n",
            "/usr/local/lib/python3.6/dist-packages/torchvision/datasets/mnist.py:58: UserWarning: test_data has been renamed data\n",
            "  warnings.warn(\"test_data has been renamed data\")\n"
          ],
          "name": "stderr"
        }
      ]
    },
    {
      "cell_type": "markdown",
      "metadata": {
        "id": "G3zD2yzfU3dC",
        "colab_type": "text"
      },
      "source": [
        "## Some notes about the training data\n",
        "\n",
        "There are two subsets of the data being used here:\n",
        "\n",
        "- **Training data** Data that is used to optimize model parameters\n",
        "- **Validation data** Data that is used for model selection (choosing hyperparameters).\n",
        "\n",
        "The data that we test on during training to monitor progress is validation data, since it can be used to tune the model architecture (number of layers, etc) and other hyperparameters.\n",
        "\n",
        "Usually, we would keep another separate **test set** for testing the final model in order to get an unbiased estimate of *out of sample* accuracy. Unfortunately, MNIST doesn't have a separate test set and it is common practice on this task to use the validation set both for validation and test. \n",
        "\n",
        "**Warning**: This is considered BAD PRACTICE in most situations!\n"
      ]
    },
    {
      "cell_type": "markdown",
      "metadata": {
        "id": "9NDg-mJ23kg5",
        "colab_type": "text"
      },
      "source": [
        "# Preview the data\n",
        "\n",
        "Let's look at a sample of the training data. \n",
        "\n",
        "Here I'm using some indexing tricks (reshaping and permuting axes) to put the first 64 digits in the dataset into a grid."
      ]
    },
    {
      "cell_type": "code",
      "metadata": {
        "id": "x0uIuozf57GB",
        "colab_type": "code",
        "outputId": "874e4c62-7246-4ff3-dc42-32c86b0daeaa",
        "colab": {
          "base_uri": "https://localhost:8080/",
          "height": 720
        }
      },
      "source": [
        "plt.figure(figsize=(10,10))\n",
        "\n",
        "sample = train_set.train_data[:64]\n",
        "# shape (64, 28, 28)\n",
        "sample = sample.reshape(8,8,28,28)\n",
        "# shape (8, 8, 28, 28)\n",
        "sample = sample.permute(0,2,1,3)\n",
        "# shape (8, 28, 8, 28)\n",
        "sample = sample.reshape(8*28,8*28)\n",
        "# shape (8*28, 8*28)\n",
        "plt.imshow(sample)\n",
        "plt.xticks([])\n",
        "plt.yticks([])\n",
        "plt.grid(False)\n",
        "plt.title('First 64 MNIST digits in training set')\n",
        "plt.show()\n",
        "\n",
        "print('Labels:', train_set.train_labels[:64].numpy())"
      ],
      "execution_count": 9,
      "outputs": [
        {
          "output_type": "stream",
          "text": [
            "/usr/local/lib/python3.6/dist-packages/torchvision/datasets/mnist.py:53: UserWarning: train_data has been renamed data\n",
            "  warnings.warn(\"train_data has been renamed data\")\n"
          ],
          "name": "stderr"
        },
        {
          "output_type": "display_data",
          "data": {
            "image/png": "[encoded data removed]",
            "text/plain": [
              "<Figure size 720x720 with 1 Axes>"
            ]
          },
          "metadata": {
            "tags": []
          }
        },
        {
          "output_type": "stream",
          "text": [
            "Labels: [5 0 4 1 9 2 1 3 1 4 3 5 3 6 1 7 2 8 6 9 4 0 9 1 1 2 4 3 2 7 3 8 6 9 0 5 6\n",
            " 0 7 6 1 8 7 9 3 9 8 5 9 3 3 0 7 4 9 8 0 9 4 1 4 4 6 0]\n"
          ],
          "name": "stdout"
        },
        {
          "output_type": "stream",
          "text": [
            "/usr/local/lib/python3.6/dist-packages/torchvision/datasets/mnist.py:43: UserWarning: train_labels has been renamed targets\n",
            "  warnings.warn(\"train_labels has been renamed targets\")\n"
          ],
          "name": "stderr"
        }
      ]
    },
    {
      "cell_type": "markdown",
      "metadata": {
        "id": "IdExkrRS43Fo",
        "colab_type": "text"
      },
      "source": [
        "# Setup the data loaders\n",
        "\n",
        "PyTorch provides a [DataLoader](https://pytorch.org/docs/stable/data.html#torch.utils.data.DataLoader) class in `torch.utils.data` that can be used to manage loading data from datasets using multiple worker threads and packaging data into datasets. It also provides data **shuffling** and **sampling** strategies.\n",
        "\n",
        "Having multiple threads to load the data improve the performance when training larger models on large datasets since the CPU threads can be busy loading and transforming data while the GPU is doing forward and backward propagation.\n",
        "\n",
        "\n",
        "**Note**: The `Dataset` and `DataLoader` classes are not mandatory in PyTorch; you can write your own data loading mechanisms. "
      ]
    },
    {
      "cell_type": "code",
      "metadata": {
        "id": "PIftYkluoDbF",
        "colab_type": "code",
        "colab": {}
      },
      "source": [
        "train_loader = DataLoader(train_set, batch_size=256, num_workers=0, shuffle=True)\n",
        "valid_loader = DataLoader(valid_set, batch_size=512, num_workers=0, shuffle=False)"
      ],
      "execution_count": 0,
      "outputs": []
    },
    {
      "cell_type": "markdown",
      "metadata": {
        "id": "ZvoPaJvs7Eem",
        "colab_type": "text"
      },
      "source": [
        "# Add some utilities \n",
        "\n",
        "Usually when training a deep learning model, you want to keep track of the loss. However, the **loss on individual batches is quite noisy**, so I usually use an **exponentially decayed moving average** to smooth out individual fluctuations in each batch and make general trends more easy to see. \n",
        "\n",
        "At validation time you usually want to find the average loss over the full dataset, so a running average (cumulative moving average) is more appropriate.\n",
        "\n",
        "Here we define two classes to take care of this."
      ]
    },
    {
      "cell_type": "code",
      "metadata": {
        "id": "hwXFvW9jv9Rg",
        "colab_type": "code",
        "colab": {}
      },
      "source": [
        "class AverageBase(object):\n",
        "    \n",
        "    def __init__(self, value=0):\n",
        "        self.value = float(value) if value is not None else None\n",
        "       \n",
        "    def __str__(self):\n",
        "        return str(round(self.value, 4))\n",
        "    \n",
        "    def __repr__(self):\n",
        "        return self.value\n",
        "    \n",
        "    def __format__(self, fmt):\n",
        "        return self.value.__format__(fmt)\n",
        "    \n",
        "    def __float__(self):\n",
        "        return self.value\n",
        "    \n",
        "\n",
        "class RunningAverage(AverageBase):\n",
        "    \"\"\"\n",
        "    Keeps track of a cumulative moving average (CMA).\n",
        "    \"\"\"\n",
        "    \n",
        "    def __init__(self, value=0, count=0):\n",
        "        super(RunningAverage, self).__init__(value)\n",
        "        self.count = count\n",
        "        \n",
        "    def update(self, value):\n",
        "        self.value = (self.value * self.count + float(value))\n",
        "        self.count += 1\n",
        "        self.value /= self.count\n",
        "        return self.value\n",
        "\n",
        "\n",
        "class MovingAverage(AverageBase):\n",
        "    \"\"\"\n",
        "    An exponentially decaying moving average (EMA).\n",
        "    \"\"\"\n",
        "    \n",
        "    def __init__(self, alpha=0.99):\n",
        "        super(MovingAverage, self).__init__(None)\n",
        "        self.alpha = alpha\n",
        "        \n",
        "    def update(self, value):\n",
        "        if self.value is None:\n",
        "            self.value = float(value)\n",
        "        else:\n",
        "            self.value = self.alpha * self.value + (1 - self.alpha) * float(value)\n",
        "        return self.value"
      ],
      "execution_count": 0,
      "outputs": []
    },
    {
      "cell_type": "markdown",
      "metadata": {
        "id": "NQgIwI5WC-07",
        "colab_type": "text"
      },
      "source": [
        "## Progress monitor\n",
        "\n",
        "I usually use [tqdm](https://github.com/tqdm/tqdm) for monitoring progress on the console and in Jupyter notebooks. But unfortunately, it doesn't work very well with Collab at the moment, so here we create a custom progress monitor class that uses the HTML and [display facilities of IPython](https://ipython.org/ipython-doc/3/api/generated/IPython.display.html) to show a progress bar."
      ]
    },
    {
      "cell_type": "code",
      "metadata": {
        "id": "NgHelJZpqWwQ",
        "colab_type": "code",
        "colab": {}
      },
      "source": [
        "from IPython.display import HTML, display\n",
        "\n",
        "class ProgressMonitor(object):\n",
        "    \"\"\"\n",
        "    Custom IPython progress bar for training\n",
        "    \"\"\"\n",
        "    \n",
        "    tmpl = \"\"\"\n",
        "        <p>Loss: {loss:0.4f}   {value} / {length}</p>\n",
        "        <progress value='{value}' max='{length}', style='width: 100%'>{value}</progress>\n",
        "    \"\"\"\n",
        "\n",
        "    def __init__(self, length):\n",
        "        self.length = length\n",
        "        self.count = 0\n",
        "        self.display = display(self.html(0, 0), display_id=True)\n",
        "        \n",
        "    def html(self, count, loss):\n",
        "        return HTML(self.tmpl.format(length=self.length, value=count, loss=loss))\n",
        "        \n",
        "    def update(self, count, loss):\n",
        "        self.count += count\n",
        "        self.display.update(self.html(self.count, loss))"
      ],
      "execution_count": 0,
      "outputs": []
    },
    {
      "cell_type": "markdown",
      "metadata": {
        "id": "fZlNXgHG6q-g",
        "colab_type": "text"
      },
      "source": [
        "# Instantiate the model\n",
        "\n",
        "Create an instance of the model and move it (memory and operations) to the CUDA device."
      ]
    },
    {
      "cell_type": "code",
      "metadata": {
        "id": "eU_kiKpypYu0",
        "colab_type": "code",
        "outputId": "bf6a9029-7354-411a-a677-5c7550bda22e",
        "colab": {
          "base_uri": "https://localhost:8080/",
          "height": 192
        }
      },
      "source": [
        "model = SimpleCNN()\n",
        "model.to(device)"
      ],
      "execution_count": 14,
      "outputs": [
        {
          "output_type": "execute_result",
          "data": {
            "text/plain": [
              "SimpleCNN(\n",
              "  (conv1): Conv2d(1, 32, kernel_size=(3, 3), stride=(1, 1), padding=(1, 1))\n",
              "  (conv2): Conv2d(32, 32, kernel_size=(3, 3), stride=(1, 1), padding=(1, 1))\n",
              "  (pool1): MaxPool2d(kernel_size=2, stride=2, padding=0, dilation=1, ceil_mode=False)\n",
              "  (drop1): Dropout(p=0.25)\n",
              "  (fc1): Linear(in_features=6272, out_features=128, bias=True)\n",
              "  (drop2): Dropout(p=0.5)\n",
              "  (fc2): Linear(in_features=128, out_features=10, bias=True)\n",
              "  (ss): ReLU6()\n",
              ")"
            ]
          },
          "metadata": {
            "tags": []
          },
          "execution_count": 14
        }
      ]
    },
    {
      "cell_type": "markdown",
      "metadata": {
        "id": "vPrYMlDSEljV",
        "colab_type": "text"
      },
      "source": [
        "# Train the model\n",
        "\n",
        "We're now ready to train!\n",
        "\n",
        "- First create a loss function (called `criterion` below) that will be used during optimization.\n",
        "- Then create an optimizer. Here we just use simple stochastic gradient descent with nesterov momentum. More advanced first order optimizers are also available like [Adam](https://arxiv.org/abs/1412.6980). See the [torch.optim](https://pytorch.org/docs/stable/optim.html) package for more details.\n",
        "- Finally, code up the train loop. \n",
        "\n",
        "Each pass through the training loop is called an epoch (an epoch is when every training example has been seen once). \n",
        "\n",
        "There are two parts to the loop:\n",
        "- **Train phase**: where batches of data are loaded from the training set and the model parameters are optimized using backpropagation to compute gradients.\n",
        "- **Validation phase**: where batches of data are loaded from the validation set and out of sample error is estimated using this data."
      ]
    },
    {
      "cell_type": "code",
      "metadata": {
        "id": "5mtSrf6XpvJv",
        "colab_type": "code",
        "colab": {}
      },
      "source": [
        "optimizer = optim.SGD(model.parameters(), lr=0.01, momentum=0.9, nesterov=True)"
      ],
      "execution_count": 0,
      "outputs": []
    },
    {
      "cell_type": "code",
      "metadata": {
        "id": "Vpx7HCnXRKoM",
        "colab_type": "code",
        "colab": {}
      },
      "source": [
        "def save_checkpoint(optimizer, model, epoch, filename):\n",
        "    checkpoint_dict = {\n",
        "        'optimizer': optimizer.state_dict(),\n",
        "        'model': model.state_dict(),\n",
        "        'epoch': epoch\n",
        "    }\n",
        "    torch.save(checkpoint_dict, filename)\n",
        "\n",
        "\n",
        "def load_checkpoint(optimizer, model, filename):\n",
        "    checkpoint_dict = torch.load(filename)\n",
        "    epoch = checkpoint_dict['epoch']\n",
        "    model.load_state_dict(checkpoint_dict['model'])\n",
        "    if optimizer is not None:\n",
        "        optimizer.load_state_dict(checkpoint_dict['optimizer'])\n",
        "    return epoch"
      ],
      "execution_count": 0,
      "outputs": []
    },
    {
      "cell_type": "code",
      "metadata": {
        "id": "QYk-zSLJRqx9",
        "colab_type": "code",
        "colab": {}
      },
      "source": [
        "!mkdir -p checkpoints"
      ],
      "execution_count": 0,
      "outputs": []
    },
    {
      "cell_type": "code",
      "metadata": {
        "id": "9QAuxIQvoSDV",
        "colab_type": "code",
        "colab": {}
      },
      "source": [
        "def train(optimizer, model, num_epochs=10, first_epoch=1):\n",
        "    \n",
        "    criterion = nn.CrossEntropyLoss()\n",
        "\n",
        "    train_losses = []\n",
        "    valid_losses = []\n",
        "\n",
        "    for epoch in range(first_epoch, first_epoch + num_epochs):\n",
        "        print('Epoch', epoch)\n",
        "\n",
        "        # train phase\n",
        "        model.train()\n",
        "\n",
        "        # create a progress bar\n",
        "        progress = ProgressMonitor(length=len(train_set))\n",
        "\n",
        "        train_loss = MovingAverage()\n",
        "\n",
        "        for batch, targets in train_loader:\n",
        "            # Move the training data to the GPU\n",
        "            batch = batch.to(device)\n",
        "            targets = targets.to(device)\n",
        "\n",
        "            # clear previous gradient computation\n",
        "            optimizer.zero_grad()\n",
        "\n",
        "            # forward propagation\n",
        "            predictions = model(batch)\n",
        "\n",
        "            # calculate the loss\n",
        "            loss = criterion(predictions, targets)\n",
        "\n",
        "            # backpropagate to compute gradients\n",
        "            loss.backward()\n",
        "\n",
        "            # update model weights\n",
        "            optimizer.step()\n",
        "\n",
        "            # update average loss\n",
        "            train_loss.update(loss)\n",
        "\n",
        "            # update progress bar\n",
        "            progress.update(batch.shape[0], train_loss)\n",
        "\n",
        "        print('Training loss:', train_loss)\n",
        "        train_losses.append(train_loss.value)\n",
        "\n",
        "\n",
        "        # validation phase\n",
        "        model.eval()\n",
        "\n",
        "        valid_loss = RunningAverage()\n",
        "\n",
        "        # keep track of predictions\n",
        "        y_pred = []\n",
        "\n",
        "        # We don't need gradients for validation, so wrap in \n",
        "        # no_grad to save memory\n",
        "        with torch.no_grad():\n",
        "\n",
        "            for batch, targets in valid_loader:\n",
        "\n",
        "                # Move the training batch to the GPU\n",
        "                batch = batch.to(device)\n",
        "                targets = targets.to(device)\n",
        "\n",
        "                # forward propagation\n",
        "                predictions = model(batch)\n",
        "\n",
        "                # calculate the loss\n",
        "                loss = criterion(predictions, targets)\n",
        "\n",
        "                # update running loss value\n",
        "                valid_loss.update(loss)\n",
        "\n",
        "                # save predictions\n",
        "                y_pred.extend(predictions.argmax(dim=1).cpu().numpy())\n",
        "\n",
        "        print('Validation loss:', valid_loss)\n",
        "        valid_losses.append(valid_loss.value)\n",
        "\n",
        "        # Calculate validation accuracy\n",
        "        y_pred = torch.tensor(y_pred, dtype=torch.int64)\n",
        "        accuracy = torch.mean((y_pred == valid_set.test_labels).float())\n",
        "        print('Validation accuracy: {:.4f}%'.format(float(accuracy) * 100))\n",
        "\n",
        "        # Save a checkpoint\n",
        "        checkpoint_filename = 'checkpoints/mnist-{:03d}.pkl'.format(epoch)\n",
        "        save_checkpoint(optimizer, model, epoch, checkpoint_filename)\n",
        "    \n",
        "    return train_losses, valid_losses, y_pred"
      ],
      "execution_count": 0,
      "outputs": []
    },
    {
      "cell_type": "markdown",
      "metadata": {
        "id": "moI0IamaTuEO",
        "colab_type": "text"
      },
      "source": [
        "##Checkpointing\n",
        "\n",
        "The above code saves a **snapshot** of the model after each epoch.\n",
        "\n",
        "- It is a good idea to save checkpoints (snapshots) of your model after each epoch so that you can resume training if there is a hardware/software failure that interrupts training. \n",
        "- This is **especially important for larger problems** where training for a single epoch can take hours and the full optimization can take weeks.\n",
        "- Also allows you to implement **early stopping** easily: simply keep the snapshot corresponding to the model with minimum validation loss (or maximum validation accuracy).\n",
        "\n",
        "**NB**: it's usually a good idea to save both the model and the optimizer state!"
      ]
    },
    {
      "cell_type": "code",
      "metadata": {
        "id": "VDdFK6RDSZ1X",
        "colab_type": "code",
        "outputId": "b259b963-f0a0-4094-c872-558686e433a8",
        "colab": {
          "base_uri": "https://localhost:8080/",
          "height": 1220
        }
      },
      "source": [
        "train_losses, valid_losses, y_pred = train(optimizer, model, num_epochs=10)"
      ],
      "execution_count": 18,
      "outputs": [
        {
          "output_type": "stream",
          "text": [
            "Epoch 1\n"
          ],
          "name": "stdout"
        },
        {
          "output_type": "display_data",
          "data": {
            "text/html": [
              "\n",
              "        <p>Loss: 0.5645   60000 / 60000</p>\n",
              "        <progress value='60000' max='60000', style='width: 100%'>60000</progress>\n",
              "    "
            ],
            "text/plain": [
              "<IPython.core.display.HTML object>"
            ]
          },
          "metadata": {
            "tags": []
          }
        },
        {
          "output_type": "stream",
          "text": [
            "Training loss: 0.5645\n",
            "Validation loss: 0.1671\n",
            "Validation accuracy: 95.1200%\n",
            "Epoch 2\n"
          ],
          "name": "stdout"
        },
        {
          "output_type": "stream",
          "text": [
            "/usr/local/lib/python3.6/dist-packages/torchvision/datasets/mnist.py:48: UserWarning: test_labels has been renamed targets\n",
            "  warnings.warn(\"test_labels has been renamed targets\")\n"
          ],
          "name": "stderr"
        },
        {
          "output_type": "display_data",
          "data": {
            "text/html": [
              "\n",
              "        <p>Loss: 0.2131   60000 / 60000</p>\n",
              "        <progress value='60000' max='60000', style='width: 100%'>60000</progress>\n",
              "    "
            ],
            "text/plain": [
              "<IPython.core.display.HTML object>"
            ]
          },
          "metadata": {
            "tags": []
          }
        },
        {
          "output_type": "stream",
          "text": [
            "Training loss: 0.2131\n",
            "Validation loss: 0.0975\n",
            "Validation accuracy: 96.9800%\n",
            "Epoch 3\n"
          ],
          "name": "stdout"
        },
        {
          "output_type": "display_data",
          "data": {
            "text/html": [
              "\n",
              "        <p>Loss: 0.1569   60000 / 60000</p>\n",
              "        <progress value='60000' max='60000', style='width: 100%'>60000</progress>\n",
              "    "
            ],
            "text/plain": [
              "<IPython.core.display.HTML object>"
            ]
          },
          "metadata": {
            "tags": []
          }
        },
        {
          "output_type": "stream",
          "text": [
            "Training loss: 0.1569\n",
            "Validation loss: 0.0692\n",
            "Validation accuracy: 97.8400%\n",
            "Epoch 4\n"
          ],
          "name": "stdout"
        },
        {
          "output_type": "display_data",
          "data": {
            "text/html": [
              "\n",
              "        <p>Loss: 0.1233   60000 / 60000</p>\n",
              "        <progress value='60000' max='60000', style='width: 100%'>60000</progress>\n",
              "    "
            ],
            "text/plain": [
              "<IPython.core.display.HTML object>"
            ]
          },
          "metadata": {
            "tags": []
          }
        },
        {
          "output_type": "stream",
          "text": [
            "Training loss: 0.1233\n",
            "Validation loss: 0.0616\n",
            "Validation accuracy: 98.0100%\n",
            "Epoch 5\n"
          ],
          "name": "stdout"
        },
        {
          "output_type": "display_data",
          "data": {
            "text/html": [
              "\n",
              "        <p>Loss: 0.0996   60000 / 60000</p>\n",
              "        <progress value='60000' max='60000', style='width: 100%'>60000</progress>\n",
              "    "
            ],
            "text/plain": [
              "<IPython.core.display.HTML object>"
            ]
          },
          "metadata": {
            "tags": []
          }
        },
        {
          "output_type": "stream",
          "text": [
            "Training loss: 0.0996\n",
            "Validation loss: 0.052\n",
            "Validation accuracy: 98.3900%\n",
            "Epoch 6\n"
          ],
          "name": "stdout"
        },
        {
          "output_type": "display_data",
          "data": {
            "text/html": [
              "\n",
              "        <p>Loss: 0.0884   60000 / 60000</p>\n",
              "        <progress value='60000' max='60000', style='width: 100%'>60000</progress>\n",
              "    "
            ],
            "text/plain": [
              "<IPython.core.display.HTML object>"
            ]
          },
          "metadata": {
            "tags": []
          }
        },
        {
          "output_type": "stream",
          "text": [
            "Training loss: 0.0884\n",
            "Validation loss: 0.0446\n",
            "Validation accuracy: 98.4800%\n",
            "Epoch 7\n"
          ],
          "name": "stdout"
        },
        {
          "output_type": "display_data",
          "data": {
            "text/html": [
              "\n",
              "        <p>Loss: 0.0776   60000 / 60000</p>\n",
              "        <progress value='60000' max='60000', style='width: 100%'>60000</progress>\n",
              "    "
            ],
            "text/plain": [
              "<IPython.core.display.HTML object>"
            ]
          },
          "metadata": {
            "tags": []
          }
        },
        {
          "output_type": "stream",
          "text": [
            "Training loss: 0.0776\n",
            "Validation loss: 0.0417\n",
            "Validation accuracy: 98.6700%\n",
            "Epoch 8\n"
          ],
          "name": "stdout"
        },
        {
          "output_type": "display_data",
          "data": {
            "text/html": [
              "\n",
              "        <p>Loss: 0.0792   60000 / 60000</p>\n",
              "        <progress value='60000' max='60000', style='width: 100%'>60000</progress>\n",
              "    "
            ],
            "text/plain": [
              "<IPython.core.display.HTML object>"
            ]
          },
          "metadata": {
            "tags": []
          }
        },
        {
          "output_type": "stream",
          "text": [
            "Training loss: 0.0792\n",
            "Validation loss: 0.0384\n",
            "Validation accuracy: 98.7900%\n",
            "Epoch 9\n"
          ],
          "name": "stdout"
        },
        {
          "output_type": "display_data",
          "data": {
            "text/html": [
              "\n",
              "        <p>Loss: 0.0662   60000 / 60000</p>\n",
              "        <progress value='60000' max='60000', style='width: 100%'>60000</progress>\n",
              "    "
            ],
            "text/plain": [
              "<IPython.core.display.HTML object>"
            ]
          },
          "metadata": {
            "tags": []
          }
        },
        {
          "output_type": "stream",
          "text": [
            "Training loss: 0.0662\n",
            "Validation loss: 0.0352\n",
            "Validation accuracy: 98.8400%\n",
            "Epoch 10\n"
          ],
          "name": "stdout"
        },
        {
          "output_type": "display_data",
          "data": {
            "text/html": [
              "\n",
              "        <p>Loss: 0.0593   60000 / 60000</p>\n",
              "        <progress value='60000' max='60000', style='width: 100%'>60000</progress>\n",
              "    "
            ],
            "text/plain": [
              "<IPython.core.display.HTML object>"
            ]
          },
          "metadata": {
            "tags": []
          }
        },
        {
          "output_type": "stream",
          "text": [
            "Training loss: 0.0593\n",
            "Validation loss: 0.0345\n",
            "Validation accuracy: 98.8900%\n"
          ],
          "name": "stdout"
        }
      ]
    },
    {
      "cell_type": "markdown",
      "metadata": {
        "id": "Urau1xFIKtFY",
        "colab_type": "text"
      },
      "source": [
        "# Plot the learning curves\n",
        "\n",
        "Here we plot the learning curves after training. Note that you can also use [Tensorboard](https://www.tensorflow.org/guide/summaries_and_tensorboard) with PyTorch using the [tensorboardX](https://github.com/lanpa/tensorboardX) library. \n",
        "\n",
        "Tensorboard, part of the tensorflow framework, allows you to visualize the learning curves (and any other data you want to track) in real time as the model trains. Running tensorboard with Colab needs a [few tricks to get working](https://www.dlology.com/blog/quick-guide-to-run-tensorboard-in-google-colab/) though. \n"
      ]
    },
    {
      "cell_type": "code",
      "metadata": {
        "id": "dzwmuvqrzXpE",
        "colab_type": "code",
        "outputId": "61a73f44-07b6-49e6-9512-941163d8a0e0",
        "colab": {
          "base_uri": "https://localhost:8080/",
          "height": 405
        }
      },
      "source": [
        "epochs = range(1, len(train_losses) + 1)\n",
        "\n",
        "plt.figure(figsize=(10,6))\n",
        "plt.plot(epochs, train_losses, '-o', label='Training loss')\n",
        "plt.plot(epochs, valid_losses, '-o', label='Validation loss')\n",
        "plt.legend()\n",
        "plt.title('Learning curves')\n",
        "plt.xlabel('Epoch')\n",
        "plt.ylabel('Loss')\n",
        "plt.xticks(epochs)\n",
        "plt.show()"
      ],
      "execution_count": 19,
      "outputs": [
        {
          "output_type": "display_data",
          "data": {
            "image/png": "[encoded data removed]",
            "text/plain": [
              "<Figure size 720x432 with 1 Axes>"
            ]
          },
          "metadata": {
            "tags": []
          }
        }
      ]
    },
    {
      "cell_type": "code",
      "metadata": {
        "id": "5-OQEDxfppKK",
        "colab_type": "code",
        "outputId": "a0f7d4f0-5ba4-433c-d783-cd4bd95c6f39",
        "colab": {
          "base_uri": "https://localhost:8080/",
          "height": 366
        }
      },
      "source": [
        "# for variety, lets use altair to do the plot\n",
        "import pandas as pd\n",
        "import altair as alt\n",
        "\n",
        "# create a pandas dataframe for the loss\n",
        "df = pd.DataFrame({\n",
        "    'epoch': range(1, len(train_losses) + 1),\n",
        "    'train': train_losses,\n",
        "    'valid': valid_losses\n",
        "})\n",
        "\n",
        "# unpivot to have cols [epoch, dataset, loss]\n",
        "df = df.melt(id_vars=['epoch'],\n",
        "             value_vars=['train', 'valid'],\n",
        "             value_name='loss',\n",
        "             var_name='dataset')\n",
        "\n",
        "# line plot with altair\n",
        "alt.Chart(df).mark_line(point=True)\\\n",
        "    .encode(x='epoch', y='loss', color='dataset')\\\n",
        "    .interactive()    "
      ],
      "execution_count": 20,
      "outputs": [
        {
          "output_type": "execute_result",
          "data": {
            "text/plain": [
              "Chart({\n",
              "  data:     epoch dataset      loss\n",
              "  0       1   train  0.564540\n",
              "  1       2   train  0.213071\n",
              "  2       3   train  0.156907\n",
              "  3       4   train  0.123320\n",
              "  4       5   train  0.099633\n",
              "  5       6   train  0.088403\n",
              "  6       7   train  0.077632\n",
              "  7       8   train  0.079245\n",
              "  8       9   train  0.066151\n",
              "  9      10   train  0.059294\n",
              "  10      1   valid  0.167079\n",
              "  11      2   valid  0.097548\n",
              "  12      3   valid  0.069199\n",
              "  13      4   valid  0.061559\n",
              "  14      5   valid  0.051976\n",
              "  15      6   valid  0.044568\n",
              "  16      7   valid  0.041670\n",
              "  17      8   valid  0.038351\n",
              "  18      9   valid  0.035182\n",
              "  19     10   valid  0.034478,\n",
              "  encoding: FacetedEncoding({\n",
              "    color: Color({\n",
              "      shorthand: 'dataset'\n",
              "    }),\n",
              "    x: X({\n",
              "      shorthand: 'epoch'\n",
              "    }),\n",
              "    y: Y({\n",
              "      shorthand: 'loss'\n",
              "    })\n",
              "  }),\n",
              "  mark: MarkDef({\n",
              "    point: True,\n",
              "    type: 'line'\n",
              "  }),\n",
              "  selection: {'selector001': SelectionDef({\n",
              "    bind: 'scales',\n",
              "    encodings: ['x', 'y'],\n",
              "    type: 'interval'\n",
              "  })}\n",
              "})"
            ],
            "text/html": [
              "<!DOCTYPE html>\n",
              "<html>\n",
              "<head>\n",
              "  <style>\n",
              "    .vega-actions a {\n",
              "        margin-right: 12px;\n",
              "        color: #757575;\n",
              "        font-weight: normal;\n",
              "        font-size: 13px;\n",
              "    }\n",
              "    .error {\n",
              "        color: red;\n",
              "    }\n",
              "  </style>\n",
              "  <script type=\"text/javascript\" src=\"https://cdn.jsdelivr.net/npm//vega@5\"></script>\n",
              "  <script type=\"text/javascript\" src=\"https://cdn.jsdelivr.net/npm//vega-lite@3.2.1\"></script>\n",
              "  <script type=\"text/javascript\" src=\"https://cdn.jsdelivr.net/npm//vega-embed@4\"></script>\n",
              "</head>\n",
              "<body>\n",
              "  <div id=\"altair-viz\"></div>\n",
              "  <script>\n",
              "      var spec = {\"config\": {\"view\": {\"width\": 400, \"height\": 300}, \"mark\": {\"tooltip\": null}}, \"data\": {\"name\": \"data-b4ce5f03b5a9a24ce179f93abc069334\"}, \"mark\": {\"type\": \"line\", \"point\": true}, \"encoding\": {\"color\": {\"type\": \"nominal\", \"field\": \"dataset\"}, \"x\": {\"type\": \"quantitative\", \"field\": \"epoch\"}, \"y\": {\"type\": \"quantitative\", \"field\": \"loss\"}}, \"selection\": {\"selector001\": {\"type\": \"interval\", \"bind\": \"scales\", \"encodings\": [\"x\", \"y\"]}}, \"$schema\": \"https://vega.github.io/schema/vega-lite/v3.2.1.json\", \"datasets\": {\"data-b4ce5f03b5a9a24ce179f93abc069334\": [{\"epoch\": 1, \"dataset\": \"train\", \"loss\": 0.564539792221422}, {\"epoch\": 2, \"dataset\": \"train\", \"loss\": 0.2130712533384083}, {\"epoch\": 3, \"dataset\": \"train\", \"loss\": 0.15690745007107348}, {\"epoch\": 4, \"dataset\": \"train\", \"loss\": 0.12331985729557104}, {\"epoch\": 5, \"dataset\": \"train\", \"loss\": 0.0996330303649521}, {\"epoch\": 6, \"dataset\": \"train\", \"loss\": 0.08840312588184719}, {\"epoch\": 7, \"dataset\": \"train\", \"loss\": 0.07763155301014428}, {\"epoch\": 8, \"dataset\": \"train\", \"loss\": 0.07924528591050578}, {\"epoch\": 9, \"dataset\": \"train\", \"loss\": 0.06615131867100973}, {\"epoch\": 10, \"dataset\": \"train\", \"loss\": 0.0592937381842682}, {\"epoch\": 1, \"dataset\": \"valid\", \"loss\": 0.16707937996834515}, {\"epoch\": 2, \"dataset\": \"valid\", \"loss\": 0.09754848759621382}, {\"epoch\": 3, \"dataset\": \"valid\", \"loss\": 0.06919857822358608}, {\"epoch\": 4, \"dataset\": \"valid\", \"loss\": 0.06155901430174708}, {\"epoch\": 5, \"dataset\": \"valid\", \"loss\": 0.05197585881687701}, {\"epoch\": 6, \"dataset\": \"valid\", \"loss\": 0.044568128092214464}, {\"epoch\": 7, \"dataset\": \"valid\", \"loss\": 0.04167040488682687}, {\"epoch\": 8, \"dataset\": \"valid\", \"loss\": 0.03835107423365116}, {\"epoch\": 9, \"dataset\": \"valid\", \"loss\": 0.03518207147717476}, {\"epoch\": 10, \"dataset\": \"valid\", \"loss\": 0.03447795077227056}]}};\n",
              "      var embedOpt = {\"mode\": \"vega-lite\"};\n",
              "\n",
              "      function showError(el, error){\n",
              "          el.innerHTML = ('<div class=\"error\" style=\"color:red;\">'\n",
              "                          + '<p>JavaScript Error: ' + error.message + '</p>'\n",
              "                          + \"<p>This usually means there's a typo in your chart specification. \"\n",
              "                          + \"See the javascript console for the full traceback.</p>\"\n",
              "                          + '</div>');\n",
              "          throw error;\n",
              "      }\n",
              "      const el = document.getElementById('altair-viz');\n",
              "      vegaEmbed(\"#altair-viz\", spec, embedOpt)\n",
              "        .catch(error => showError(el, error));\n",
              "\n",
              "  </script>\n",
              "</body>\n",
              "</html>"
            ]
          },
          "metadata": {
            "tags": []
          },
          "execution_count": 20
        }
      ]
    },
    {
      "cell_type": "markdown",
      "metadata": {
        "id": "u1rSJSroPYaL",
        "colab_type": "text"
      },
      "source": [
        "# Error analysis"
      ]
    },
    {
      "cell_type": "code",
      "metadata": {
        "id": "87r7l8ewG6v-",
        "colab_type": "code",
        "outputId": "7f8fc78b-e4c8-4f5b-85fa-3d56649b3056",
        "colab": {
          "base_uri": "https://localhost:8080/",
          "height": 90
        }
      },
      "source": [
        "num_errors = torch.sum((y_pred != valid_set.test_labels).float())\n",
        "print('Validation errors {} (out of {})'.format(int(num_errors), len(valid_set)))"
      ],
      "execution_count": 59,
      "outputs": [
        {
          "output_type": "stream",
          "text": [
            "Validation errors 101 (out of 10000)\n"
          ],
          "name": "stdout"
        },
        {
          "output_type": "stream",
          "text": [
            "/usr/local/lib/python3.6/dist-packages/torchvision/datasets/mnist.py:48: UserWarning: test_labels has been renamed targets\n",
            "  warnings.warn(\"test_labels has been renamed targets\")\n"
          ],
          "name": "stderr"
        }
      ]
    },
    {
      "cell_type": "code",
      "metadata": {
        "id": "Xx9w2Mh9Ldjx",
        "colab_type": "code",
        "colab": {
          "base_uri": "https://localhost:8080/",
          "height": 107
        },
        "outputId": "8af7d8b6-6354-4018-8f64-392f922140bd"
      },
      "source": [
        "# pull out examples of mistakes in the valid set\n",
        "error_indicator = y_pred != valid_set.test_labels\n",
        "error_examples = valid_set.test_data[error_indicator, :, :]"
      ],
      "execution_count": 60,
      "outputs": [
        {
          "output_type": "stream",
          "text": [
            "/usr/local/lib/python3.6/dist-packages/torchvision/datasets/mnist.py:48: UserWarning: test_labels has been renamed targets\n",
            "  warnings.warn(\"test_labels has been renamed targets\")\n",
            "/usr/local/lib/python3.6/dist-packages/torchvision/datasets/mnist.py:58: UserWarning: test_data has been renamed data\n",
            "  warnings.warn(\"test_data has been renamed data\")\n"
          ],
          "name": "stderr"
        }
      ]
    },
    {
      "cell_type": "code",
      "metadata": {
        "id": "QNkEJp62OEZC",
        "colab_type": "code",
        "outputId": "6c6b6321-ddd0-4e42-a98e-f84c5e598b5b",
        "colab": {
          "base_uri": "https://localhost:8080/",
          "height": 720
        }
      },
      "source": [
        "plt.figure(figsize=(10,10))\n",
        "\n",
        "sample = error_examples[:64]\n",
        "# shape (64, 28, 28)\n",
        "sample = sample.reshape(8,8,28,28)\n",
        "# shape (8, 8, 28, 28)\n",
        "sample = sample.permute(0,2,1,3)\n",
        "# shape (8, 28, 8, 28)\n",
        "sample = sample.reshape(8*28,8*28)\n",
        "# shape (8*28, 8*28)\n",
        "plt.imshow(sample)\n",
        "plt.xticks([])\n",
        "plt.yticks([])\n",
        "plt.grid(False)\n",
        "plt.title('Error analysis (validation set)')\n",
        "plt.show()\n",
        "\n",
        "print('y_true:', valid_set.test_labels[error_indicator][:64].numpy())\n",
        "print('y_pred:', y_pred[error_indicator][:64].numpy())"
      ],
      "execution_count": 61,
      "outputs": [
        {
          "output_type": "display_data",
          "data": {
            "image/png": "[encoded data removed]",
            "text/plain": [
              "<Figure size 720x720 with 1 Axes>"
            ]
          },
          "metadata": {
            "tags": []
          }
        },
        {
          "output_type": "stream",
          "text": [
            "y_true: [9 9 6 2 5 6 8 2 0 5 8 9 3 8 6 7 4 7 9 4 9 8 5 9 8 9 0 9 8 2 8 9 1 5 5 6 9\n",
            " 4 6 9 9 0 9 2 2 5 6 9 8 3 3 9 6 9 6 9 6 8 2 4 8 6 5 7]\n",
            "y_pred: [5 4 0 7 3 0 2 1 5 8 7 7 5 9 5 3 6 2 4 9 5 0 3 4 7 3 6 5 0 7 3 4 7 3 6 0 8\n",
            " 9 1 8 0 2 4 0 4 3 1 4 0 8 2 5 0 7 0 1 4 5 7 9 9 0 2 8]\n"
          ],
          "name": "stdout"
        },
        {
          "output_type": "stream",
          "text": [
            "/usr/local/lib/python3.6/dist-packages/torchvision/datasets/mnist.py:48: UserWarning: test_labels has been renamed targets\n",
            "  warnings.warn(\"test_labels has been renamed targets\")\n"
          ],
          "name": "stderr"
        }
      ]
    },
    {
      "cell_type": "markdown",
      "metadata": {
        "id": "L3k9cOWWS8en",
        "colab_type": "text"
      },
      "source": [
        "# Resuming training"
      ]
    },
    {
      "cell_type": "code",
      "metadata": {
        "id": "vqUkPWZnW9Vi",
        "colab_type": "code",
        "outputId": "d7efe084-3396-4f1b-eb00-1b98c6fb7ce2",
        "colab": {
          "base_uri": "https://localhost:8080/",
          "height": 52
        }
      },
      "source": [
        "ls checkpoints"
      ],
      "execution_count": 53,
      "outputs": [
        {
          "output_type": "stream",
          "text": [
            "mnist-001.pkl  mnist-003.pkl  mnist-005.pkl  mnist-007.pkl  mnist-009.pkl\n",
            "mnist-002.pkl  mnist-004.pkl  mnist-006.pkl  mnist-008.pkl  mnist-010.pkl\n"
          ],
          "name": "stdout"
        }
      ]
    },
    {
      "cell_type": "code",
      "metadata": {
        "id": "u9XfbK_wS-3v",
        "colab_type": "code",
        "outputId": "fae1188d-4630-4133-f03a-917fc625c965",
        "colab": {
          "base_uri": "https://localhost:8080/",
          "height": 433
        }
      },
      "source": [
        "epoch = load_checkpoint(optimizer, model, 'checkpoints/mnist-010.pkl')\n",
        "print('Resuming training from epoch', epoch)\n",
        "train_losses, valid_losses, y_pred = train(optimizer, model, num_epochs=3, first_epoch=epoch)\n"
      ],
      "execution_count": 54,
      "outputs": [
        {
          "output_type": "stream",
          "text": [
            "Resuming training from epoch 10\n",
            "Epoch 10\n"
          ],
          "name": "stdout"
        },
        {
          "output_type": "display_data",
          "data": {
            "text/html": [
              "\n",
              "        <p>Loss: 0.0432   60000 / 60000</p>\n",
              "        <progress value='60000' max='60000', style='width: 100%'>60000</progress>\n",
              "    "
            ],
            "text/plain": [
              "<IPython.core.display.HTML object>"
            ]
          },
          "metadata": {
            "tags": []
          }
        },
        {
          "output_type": "stream",
          "text": [
            "Training loss: 0.0432\n",
            "Validation loss: 0.0345\n",
            "Validation accuracy: 98.8600%\n",
            "Epoch 11\n"
          ],
          "name": "stdout"
        },
        {
          "output_type": "stream",
          "text": [
            "/usr/local/lib/python3.6/dist-packages/torchvision/datasets/mnist.py:48: UserWarning: test_labels has been renamed targets\n",
            "  warnings.warn(\"test_labels has been renamed targets\")\n"
          ],
          "name": "stderr"
        },
        {
          "output_type": "display_data",
          "data": {
            "text/html": [
              "\n",
              "        <p>Loss: 0.0435   60000 / 60000</p>\n",
              "        <progress value='60000' max='60000', style='width: 100%'>60000</progress>\n",
              "    "
            ],
            "text/plain": [
              "<IPython.core.display.HTML object>"
            ]
          },
          "metadata": {
            "tags": []
          }
        },
        {
          "output_type": "stream",
          "text": [
            "Training loss: 0.0435\n",
            "Validation loss: 0.033\n",
            "Validation accuracy: 98.8800%\n",
            "Epoch 12\n"
          ],
          "name": "stdout"
        },
        {
          "output_type": "display_data",
          "data": {
            "text/html": [
              "\n",
              "        <p>Loss: 0.0410   60000 / 60000</p>\n",
              "        <progress value='60000' max='60000', style='width: 100%'>60000</progress>\n",
              "    "
            ],
            "text/plain": [
              "<IPython.core.display.HTML object>"
            ]
          },
          "metadata": {
            "tags": []
          }
        },
        {
          "output_type": "stream",
          "text": [
            "Training loss: 0.041\n",
            "Validation loss: 0.0336\n",
            "Validation accuracy: 98.8700%\n"
          ],
          "name": "stdout"
        }
      ]
    },
    {
      "cell_type": "code",
      "metadata": {
        "id": "duyVSpNtfaOT",
        "colab_type": "code",
        "colab": {}
      },
      "source": [
        ""
      ],
      "execution_count": 0,
      "outputs": []
    },
    {
      "cell_type": "code",
      "metadata": {
        "colab_type": "code",
        "outputId": "92ff0209-6dd0-4c44-ed81-690c2662d6b8",
        "id": "HiyMHFNFfgoo",
        "colab": {
          "base_uri": "https://localhost:8080/",
          "height": 778
        }
      },
      "source": [
        "epoch = load_checkpoint(optimizer, model, 'checkpoints/mnist-012.pkl')\n",
        "print('Resuming training from epoch', epoch)\n",
        "train_losses, valid_losses, y_pred = train(optimizer, model, num_epochs=6, first_epoch=epoch)\n"
      ],
      "execution_count": 55,
      "outputs": [
        {
          "output_type": "stream",
          "text": [
            "Resuming training from epoch 12\n",
            "Epoch 12\n"
          ],
          "name": "stdout"
        },
        {
          "output_type": "display_data",
          "data": {
            "text/html": [
              "\n",
              "        <p>Loss: 0.0406   60000 / 60000</p>\n",
              "        <progress value='60000' max='60000', style='width: 100%'>60000</progress>\n",
              "    "
            ],
            "text/plain": [
              "<IPython.core.display.HTML object>"
            ]
          },
          "metadata": {
            "tags": []
          }
        },
        {
          "output_type": "stream",
          "text": [
            "Training loss: 0.0406\n",
            "Validation loss: 0.033\n",
            "Validation accuracy: 98.8200%\n",
            "Epoch 13\n"
          ],
          "name": "stdout"
        },
        {
          "output_type": "stream",
          "text": [
            "/usr/local/lib/python3.6/dist-packages/torchvision/datasets/mnist.py:48: UserWarning: test_labels has been renamed targets\n",
            "  warnings.warn(\"test_labels has been renamed targets\")\n"
          ],
          "name": "stderr"
        },
        {
          "output_type": "display_data",
          "data": {
            "text/html": [
              "\n",
              "        <p>Loss: 0.0365   60000 / 60000</p>\n",
              "        <progress value='60000' max='60000', style='width: 100%'>60000</progress>\n",
              "    "
            ],
            "text/plain": [
              "<IPython.core.display.HTML object>"
            ]
          },
          "metadata": {
            "tags": []
          }
        },
        {
          "output_type": "stream",
          "text": [
            "Training loss: 0.0365\n",
            "Validation loss: 0.03\n",
            "Validation accuracy: 99.0800%\n",
            "Epoch 14\n"
          ],
          "name": "stdout"
        },
        {
          "output_type": "display_data",
          "data": {
            "text/html": [
              "\n",
              "        <p>Loss: 0.0363   60000 / 60000</p>\n",
              "        <progress value='60000' max='60000', style='width: 100%'>60000</progress>\n",
              "    "
            ],
            "text/plain": [
              "<IPython.core.display.HTML object>"
            ]
          },
          "metadata": {
            "tags": []
          }
        },
        {
          "output_type": "stream",
          "text": [
            "Training loss: 0.0363\n",
            "Validation loss: 0.0337\n",
            "Validation accuracy: 98.9200%\n",
            "Epoch 15\n"
          ],
          "name": "stdout"
        },
        {
          "output_type": "display_data",
          "data": {
            "text/html": [
              "\n",
              "        <p>Loss: 0.0345   60000 / 60000</p>\n",
              "        <progress value='60000' max='60000', style='width: 100%'>60000</progress>\n",
              "    "
            ],
            "text/plain": [
              "<IPython.core.display.HTML object>"
            ]
          },
          "metadata": {
            "tags": []
          }
        },
        {
          "output_type": "stream",
          "text": [
            "Training loss: 0.0345\n",
            "Validation loss: 0.0333\n",
            "Validation accuracy: 98.9500%\n",
            "Epoch 16\n"
          ],
          "name": "stdout"
        },
        {
          "output_type": "display_data",
          "data": {
            "text/html": [
              "\n",
              "        <p>Loss: 0.0315   60000 / 60000</p>\n",
              "        <progress value='60000' max='60000', style='width: 100%'>60000</progress>\n",
              "    "
            ],
            "text/plain": [
              "<IPython.core.display.HTML object>"
            ]
          },
          "metadata": {
            "tags": []
          }
        },
        {
          "output_type": "stream",
          "text": [
            "Training loss: 0.0315\n",
            "Validation loss: 0.0318\n",
            "Validation accuracy: 99.0100%\n",
            "Epoch 17\n"
          ],
          "name": "stdout"
        },
        {
          "output_type": "display_data",
          "data": {
            "text/html": [
              "\n",
              "        <p>Loss: 0.0299   60000 / 60000</p>\n",
              "        <progress value='60000' max='60000', style='width: 100%'>60000</progress>\n",
              "    "
            ],
            "text/plain": [
              "<IPython.core.display.HTML object>"
            ]
          },
          "metadata": {
            "tags": []
          }
        },
        {
          "output_type": "stream",
          "text": [
            "Training loss: 0.0299\n",
            "Validation loss: 0.03\n",
            "Validation accuracy: 98.9900%\n"
          ],
          "name": "stdout"
        }
      ]
    },
    {
      "cell_type": "markdown",
      "metadata": {
        "id": "yAE5_sGEc5NR",
        "colab_type": "text"
      },
      "source": [
        "# Using colab widgets to monitor loss in the training loop\n",
        "\n",
        "Let's see how we could modify the training loop to use [colab widgets](https://colab.research.google.com/notebooks/widgets.ipynb) to monitor the loss."
      ]
    },
    {
      "cell_type": "code",
      "metadata": {
        "id": "BSmq7vsOdNiY",
        "colab_type": "code",
        "colab": {}
      },
      "source": [
        "from google.colab import widgets"
      ],
      "execution_count": 0,
      "outputs": []
    },
    {
      "cell_type": "code",
      "metadata": {
        "id": "mPqUSMSGX0bq",
        "colab_type": "code",
        "colab": {}
      },
      "source": [
        "def train(optimizer, model, num_epochs=10, first_epoch=1):\n",
        "    \n",
        "    # create a 1x1 grid to display the loss and progress\n",
        "    grid = widgets.Grid(2,1)\n",
        "    \n",
        "    criterion = nn.CrossEntropyLoss()\n",
        "\n",
        "    train_losses = []\n",
        "    valid_losses = []\n",
        "\n",
        "    for epoch in range(first_epoch, first_epoch + num_epochs):\n",
        "        print('Epoch', epoch)\n",
        "\n",
        "        # train phase\n",
        "        model.train()\n",
        "\n",
        "        # create a progress bar\n",
        "        with grid.output_to(0,0):\n",
        "            progress = ProgressMonitor(length=len(train_set))\n",
        "\n",
        "        train_loss = MovingAverage()\n",
        "\n",
        "        for batch, targets in train_loader:\n",
        "            # Move the training data to the GPU\n",
        "            batch = batch.to(device)\n",
        "            targets = targets.to(device)\n",
        "\n",
        "            # clear previous gradient computation\n",
        "            optimizer.zero_grad()\n",
        "\n",
        "            # forward propagation\n",
        "            predictions = model(batch)\n",
        "\n",
        "            # calculate the loss\n",
        "            loss = criterion(predictions, targets)\n",
        "\n",
        "            # backpropagate to compute gradients\n",
        "            loss.backward()\n",
        "\n",
        "            # update model weights\n",
        "            optimizer.step()\n",
        "\n",
        "            # update average loss\n",
        "            train_loss.update(loss)\n",
        "\n",
        "            # update progress bar\n",
        "            with grid.output_to(0,0):\n",
        "                progress.update(batch.shape[0], train_loss)\n",
        "\n",
        "        print('Training loss:', train_loss)\n",
        "        train_losses.append(train_loss.value)\n",
        "\n",
        "\n",
        "        # validation phase\n",
        "        model.eval()\n",
        "\n",
        "        valid_loss = RunningAverage()\n",
        "\n",
        "        # keep track of predictions\n",
        "        y_pred = []\n",
        "\n",
        "        # We don't need gradients for validation, so wrap in \n",
        "        # no_grad to save memory\n",
        "        with torch.no_grad():\n",
        "\n",
        "            for batch, targets in valid_loader:\n",
        "\n",
        "                # Move the training batch to the GPU\n",
        "                batch = batch.to(device)\n",
        "                targets = targets.to(device)\n",
        "\n",
        "                # forward propagation\n",
        "                predictions = model(batch)\n",
        "\n",
        "                # calculate the loss\n",
        "                loss = criterion(predictions, targets)\n",
        "\n",
        "                # update running loss value\n",
        "                valid_loss.update(loss)\n",
        "\n",
        "                # save predictions\n",
        "                y_pred.extend(predictions.argmax(dim=1).cpu().numpy())\n",
        "\n",
        "        print('Validation loss:', valid_loss)\n",
        "        valid_losses.append(valid_loss.value)\n",
        "\n",
        "        # Calculate validation accuracy\n",
        "        y_pred = torch.tensor(y_pred, dtype=torch.int64)\n",
        "        accuracy = torch.mean((y_pred == valid_set.test_labels).float())\n",
        "        print('Validation accuracy: {:.4f}%'.format(float(accuracy) * 100))\n",
        "\n",
        "        # Save a checkpoint\n",
        "        checkpoint_filename = 'checkpoints/mnist-{:03d}.pkl'.format(epoch)\n",
        "        save_checkpoint(optimizer, model, epoch, checkpoint_filename)\n",
        "        \n",
        "        \n",
        "        # Plot loss\n",
        "        with grid.output_to(1, 0):\n",
        "            grid.clear_cell()\n",
        "            plt.figure(figsize=(10,6))\n",
        "            epochs = range(first_epoch, epoch + 1)\n",
        "            plt.plot(epochs, train_losses, '-o', label='Training loss')\n",
        "            plt.plot(epochs, valid_losses, '-o', label='Validation loss')\n",
        "            plt.legend()\n",
        "            plt.title('Learning curves')\n",
        "            plt.xlabel('Epoch')\n",
        "            plt.ylabel('Loss')\n",
        "            plt.xticks(epochs)\n",
        "            plt.show()\n",
        "            \n",
        "    \n",
        "    return train_losses, valid_losses, y_pred"
      ],
      "execution_count": 0,
      "outputs": []
    },
    {
      "cell_type": "code",
      "metadata": {
        "id": "izvnsXhXd7eJ",
        "colab_type": "code",
        "outputId": "3609d226-7b37-4cef-8ca5-1d56c659ea7c",
        "colab": {
          "base_uri": "https://localhost:8080/",
          "height": 1267
        }
      },
      "source": [
        "# instantiate a fresh model and optimizer and train\n",
        "model = SimpleCNN()\n",
        "model.to(device)\n",
        "\n",
        "optimizer = optim.SGD(model.parameters(), lr=0.01, momentum=0.9, nesterov=True)\n",
        "\n",
        "train(optimizer, model, 10)\n"
      ],
      "execution_count": 0,
      "outputs": [
        {
          "output_type": "display_data",
          "data": {
            "text/html": [
              "<style>\n",
              "       table#id4, #id4 > tbody > tr > th, #id4 > tbody > tr > td {\n",
              "         border: 1px solid lightgray;\n",
              "         border-collapse:collapse;\n",
              "         \n",
              "        }</style>"
            ],
            "text/plain": [
              "<IPython.core.display.HTML object>"
            ]
          },
          "metadata": {
            "tags": [
              "outputarea_id4"
            ]
          }
        },
        {
          "output_type": "display_data",
          "data": {
            "text/html": [
              "<table id=id4><tr><td id=id4-0-0></td></tr><tr><td id=id4-1-0></td></tr></table>"
            ],
            "text/plain": [
              "<IPython.core.display.HTML object>"
            ]
          },
          "metadata": {
            "tags": [
              "outputarea_id4"
            ]
          }
        },
        {
          "output_type": "stream",
          "text": [
            "Epoch 1\n"
          ],
          "name": "stdout"
        },
        {
          "output_type": "display_data",
          "data": {
            "application/javascript": [
              "window[\"7755b18a-d451-11e8-8306-0242ac1c0002\"] = google.colab.output.getActiveOutputArea();\n",
              "//# sourceURL=js_87e5799582"
            ],
            "text/plain": [
              "<IPython.core.display.Javascript object>"
            ]
          },
          "metadata": {
            "tags": [
              "id4-0-0",
              "outputarea_id4"
            ]
          }
        },
        {
          "output_type": "display_data",
          "data": {
            "application/javascript": [
              "window[\"7755fa0a-d451-11e8-8306-0242ac1c0002\"] = document.querySelector(\"#id4-0-0\");\n",
              "//# sourceURL=js_db38601331"
            ],
            "text/plain": [
              "<IPython.core.display.Javascript object>"
            ]
          },
          "metadata": {
            "tags": [
              "id4-0-0",
              "outputarea_id4"
            ]
          }
        },
        {
          "output_type": "display_data",
          "data": {
            "application/javascript": [
              "window[\"77567796-d451-11e8-8306-0242ac1c0002\"] = google.colab.output.setActiveOutputArea(window[\"7755fa0a-d451-11e8-8306-0242ac1c0002\"]);\n",
              "//# sourceURL=js_4732d75f72"
            ],
            "text/plain": [
              "<IPython.core.display.Javascript object>"
            ]
          },
          "metadata": {
            "tags": [
              "id4-0-0",
              "outputarea_id4"
            ]
          }
        },
        {
          "output_type": "display_data",
          "data": {
            "text/html": [
              "\n",
              "        <p>Loss: 2.3009   3072 / 60000</p>\n",
              "        <progress value='3072' max='60000', style='width: 100%'>3072</progress>\n",
              "    "
            ],
            "text/plain": [
              "<IPython.core.display.HTML object>"
            ]
          },
          "metadata": {
            "tags": [
              "id4-0-0",
              "outputarea_id4",
              "user_output"
            ]
          }
        },
        {
          "output_type": "display_data",
          "data": {
            "application/javascript": [
              "window[\"7758b8bc-d451-11e8-8306-0242ac1c0002\"] = google.colab.output.setActiveOutputArea(window[\"7755b18a-d451-11e8-8306-0242ac1c0002\"]);\n",
              "//# sourceURL=js_934d9b7cd6"
            ],
            "text/plain": [
              "<IPython.core.display.Javascript object>"
            ]
          },
          "metadata": {
            "tags": [
              "id4-0-0",
              "outputarea_id4"
            ]
          }
        },
        {
          "output_type": "display_data",
          "data": {
            "application/javascript": [
              "window[\"77658312-d451-11e8-8306-0242ac1c0002\"] = google.colab.output.getActiveOutputArea();\n",
              "//# sourceURL=js_8616d58d50"
            ],
            "text/plain": [
              "<IPython.core.display.Javascript object>"
            ]
          },
          "metadata": {
            "tags": [
              "id4-0-0",
              "outputarea_id4"
            ]
          }
        },
        {
          "output_type": "display_data",
          "data": {
            "application/javascript": [
              "window[\"7765e956-d451-11e8-8306-0242ac1c0002\"] = document.querySelector(\"#id4-0-0\");\n",
              "//# sourceURL=js_4a7e981ea7"
            ],
            "text/plain": [
              "<IPython.core.display.Javascript object>"
            ]
          },
          "metadata": {
            "tags": [
              "id4-0-0",
              "outputarea_id4"
            ]
          }
        },
        {
          "output_type": "display_data",
          "data": {
            "application/javascript": [
              "window[\"7766815e-d451-11e8-8306-0242ac1c0002\"] = google.colab.output.setActiveOutputArea(window[\"7765e956-d451-11e8-8306-0242ac1c0002\"]);\n",
              "//# sourceURL=js_ef70a19023"
            ],
            "text/plain": [
              "<IPython.core.display.Javascript object>"
            ]
          },
          "metadata": {
            "tags": [
              "id4-0-0",
              "outputarea_id4"
            ]
          }
        },
        {
          "output_type": "display_data",
          "data": {
            "application/javascript": [
              "window[\"7768952a-d451-11e8-8306-0242ac1c0002\"] = google.colab.output.setActiveOutputArea(window[\"77658312-d451-11e8-8306-0242ac1c0002\"]);\n",
              "//# sourceURL=js_ff020bf9e7"
            ],
            "text/plain": [
              "<IPython.core.display.Javascript object>"
            ]
          },
          "metadata": {
            "tags": [
              "id4-0-0",
              "outputarea_id4"
            ]
          }
        },
        {
          "output_type": "display_data",
          "data": {
            "application/javascript": [
              "window[\"7774ab12-d451-11e8-8306-0242ac1c0002\"] = google.colab.output.getActiveOutputArea();\n",
              "//# sourceURL=js_45d0193870"
            ],
            "text/plain": [
              "<IPython.core.display.Javascript object>"
            ]
          },
          "metadata": {
            "tags": [
              "id4-0-0",
              "outputarea_id4"
            ]
          }
        },
        {
          "output_type": "display_data",
          "data": {
            "application/javascript": [
              "window[\"77752664-d451-11e8-8306-0242ac1c0002\"] = document.querySelector(\"#id4-0-0\");\n",
              "//# sourceURL=js_4c8464b866"
            ],
            "text/plain": [
              "<IPython.core.display.Javascript object>"
            ]
          },
          "metadata": {
            "tags": [
              "id4-0-0",
              "outputarea_id4"
            ]
          }
        },
        {
          "output_type": "display_data",
          "data": {
            "application/javascript": [
              "window[\"7775bf3e-d451-11e8-8306-0242ac1c0002\"] = google.colab.output.setActiveOutputArea(window[\"77752664-d451-11e8-8306-0242ac1c0002\"]);\n",
              "//# sourceURL=js_093b601612"
            ],
            "text/plain": [
              "<IPython.core.display.Javascript object>"
            ]
          },
          "metadata": {
            "tags": [
              "id4-0-0",
              "outputarea_id4"
            ]
          }
        },
        {
          "output_type": "display_data",
          "data": {
            "application/javascript": [
              "window[\"7777d4c2-d451-11e8-8306-0242ac1c0002\"] = google.colab.output.setActiveOutputArea(window[\"7774ab12-d451-11e8-8306-0242ac1c0002\"]);\n",
              "//# sourceURL=js_3824172164"
            ],
            "text/plain": [
              "<IPython.core.display.Javascript object>"
            ]
          },
          "metadata": {
            "tags": [
              "id4-0-0",
              "outputarea_id4"
            ]
          }
        },
        {
          "output_type": "display_data",
          "data": {
            "application/javascript": [
              "window[\"7783bc10-d451-11e8-8306-0242ac1c0002\"] = google.colab.output.getActiveOutputArea();\n",
              "//# sourceURL=js_55203da170"
            ],
            "text/plain": [
              "<IPython.core.display.Javascript object>"
            ]
          },
          "metadata": {
            "tags": [
              "id4-0-0",
              "outputarea_id4"
            ]
          }
        },
        {
          "output_type": "display_data",
          "data": {
            "application/javascript": [
              "window[\"778452ec-d451-11e8-8306-0242ac1c0002\"] = document.querySelector(\"#id4-0-0\");\n",
              "//# sourceURL=js_646bb4ffb9"
            ],
            "text/plain": [
              "<IPython.core.display.Javascript object>"
            ]
          },
          "metadata": {
            "tags": [
              "id4-0-0",
              "outputarea_id4"
            ]
          }
        },
        {
          "output_type": "display_data",
          "data": {
            "application/javascript": [
              "window[\"7784b066-d451-11e8-8306-0242ac1c0002\"] = google.colab.output.setActiveOutputArea(window[\"778452ec-d451-11e8-8306-0242ac1c0002\"]);\n",
              "//# sourceURL=js_f75d62771e"
            ],
            "text/plain": [
              "<IPython.core.display.Javascript object>"
            ]
          },
          "metadata": {
            "tags": [
              "id4-0-0",
              "outputarea_id4"
            ]
          }
        },
        {
          "output_type": "display_data",
          "data": {
            "application/javascript": [
              "window[\"77866208-d451-11e8-8306-0242ac1c0002\"] = google.colab.output.setActiveOutputArea(window[\"7783bc10-d451-11e8-8306-0242ac1c0002\"]);\n",
              "//# sourceURL=js_e7a33bf808"
            ],
            "text/plain": [
              "<IPython.core.display.Javascript object>"
            ]
          },
          "metadata": {
            "tags": [
              "id4-0-0",
              "outputarea_id4"
            ]
          }
        },
        {
          "output_type": "display_data",
          "data": {
            "application/javascript": [
              "window[\"7792875e-d451-11e8-8306-0242ac1c0002\"] = google.colab.output.getActiveOutputArea();\n",
              "//# sourceURL=js_577237df49"
            ],
            "text/plain": [
              "<IPython.core.display.Javascript object>"
            ]
          },
          "metadata": {
            "tags": [
              "id4-0-0",
              "outputarea_id4"
            ]
          }
        },
        {
          "output_type": "display_data",
          "data": {
            "application/javascript": [
              "window[\"77932218-d451-11e8-8306-0242ac1c0002\"] = document.querySelector(\"#id4-0-0\");\n",
              "//# sourceURL=js_9cb0c52be7"
            ],
            "text/plain": [
              "<IPython.core.display.Javascript object>"
            ]
          },
          "metadata": {
            "tags": [
              "id4-0-0",
              "outputarea_id4"
            ]
          }
        },
        {
          "output_type": "display_data",
          "data": {
            "application/javascript": [
              "window[\"779420b4-d451-11e8-8306-0242ac1c0002\"] = google.colab.output.setActiveOutputArea(window[\"77932218-d451-11e8-8306-0242ac1c0002\"]);\n",
              "//# sourceURL=js_04e0e437ce"
            ],
            "text/plain": [
              "<IPython.core.display.Javascript object>"
            ]
          },
          "metadata": {
            "tags": [
              "id4-0-0",
              "outputarea_id4"
            ]
          }
        },
        {
          "output_type": "display_data",
          "data": {
            "application/javascript": [
              "window[\"77961130-d451-11e8-8306-0242ac1c0002\"] = google.colab.output.setActiveOutputArea(window[\"7792875e-d451-11e8-8306-0242ac1c0002\"]);\n",
              "//# sourceURL=js_ff7c6ad67d"
            ],
            "text/plain": [
              "<IPython.core.display.Javascript object>"
            ]
          },
          "metadata": {
            "tags": [
              "id4-0-0",
              "outputarea_id4"
            ]
          }
        },
        {
          "output_type": "display_data",
          "data": {
            "application/javascript": [
              "window[\"77a1bd82-d451-11e8-8306-0242ac1c0002\"] = google.colab.output.getActiveOutputArea();\n",
              "//# sourceURL=js_0eaa293a88"
            ],
            "text/plain": [
              "<IPython.core.display.Javascript object>"
            ]
          },
          "metadata": {
            "tags": [
              "id4-0-0",
              "outputarea_id4"
            ]
          }
        },
        {
          "output_type": "display_data",
          "data": {
            "application/javascript": [
              "window[\"77a21930-d451-11e8-8306-0242ac1c0002\"] = document.querySelector(\"#id4-0-0\");\n",
              "//# sourceURL=js_94e690533e"
            ],
            "text/plain": [
              "<IPython.core.display.Javascript object>"
            ]
          },
          "metadata": {
            "tags": [
              "id4-0-0",
              "outputarea_id4"
            ]
          }
        },
        {
          "output_type": "display_data",
          "data": {
            "application/javascript": [
              "window[\"77a261a6-d451-11e8-8306-0242ac1c0002\"] = google.colab.output.setActiveOutputArea(window[\"77a21930-d451-11e8-8306-0242ac1c0002\"]);\n",
              "//# sourceURL=js_522e1c8f17"
            ],
            "text/plain": [
              "<IPython.core.display.Javascript object>"
            ]
          },
          "metadata": {
            "tags": [
              "id4-0-0",
              "outputarea_id4"
            ]
          }
        },
        {
          "output_type": "display_data",
          "data": {
            "application/javascript": [
              "window[\"77a4108c-d451-11e8-8306-0242ac1c0002\"] = google.colab.output.setActiveOutputArea(window[\"77a1bd82-d451-11e8-8306-0242ac1c0002\"]);\n",
              "//# sourceURL=js_062d9dbd47"
            ],
            "text/plain": [
              "<IPython.core.display.Javascript object>"
            ]
          },
          "metadata": {
            "tags": [
              "id4-0-0",
              "outputarea_id4"
            ]
          }
        },
        {
          "output_type": "display_data",
          "data": {
            "application/javascript": [
              "window[\"77b04e6a-d451-11e8-8306-0242ac1c0002\"] = google.colab.output.getActiveOutputArea();\n",
              "//# sourceURL=js_bdb19b79b0"
            ],
            "text/plain": [
              "<IPython.core.display.Javascript object>"
            ]
          },
          "metadata": {
            "tags": [
              "id4-0-0",
              "outputarea_id4"
            ]
          }
        },
        {
          "output_type": "display_data",
          "data": {
            "application/javascript": [
              "window[\"77b0ab94-d451-11e8-8306-0242ac1c0002\"] = document.querySelector(\"#id4-0-0\");\n",
              "//# sourceURL=js_69e83d26cd"
            ],
            "text/plain": [
              "<IPython.core.display.Javascript object>"
            ]
          },
          "metadata": {
            "tags": [
              "id4-0-0",
              "outputarea_id4"
            ]
          }
        },
        {
          "output_type": "display_data",
          "data": {
            "application/javascript": [
              "window[\"77b0fd9c-d451-11e8-8306-0242ac1c0002\"] = google.colab.output.setActiveOutputArea(window[\"77b0ab94-d451-11e8-8306-0242ac1c0002\"]);\n",
              "//# sourceURL=js_1898b3825a"
            ],
            "text/plain": [
              "<IPython.core.display.Javascript object>"
            ]
          },
          "metadata": {
            "tags": [
              "id4-0-0",
              "outputarea_id4"
            ]
          }
        },
        {
          "output_type": "display_data",
          "data": {
            "application/javascript": [
              "window[\"77b2e2e2-d451-11e8-8306-0242ac1c0002\"] = google.colab.output.setActiveOutputArea(window[\"77b04e6a-d451-11e8-8306-0242ac1c0002\"]);\n",
              "//# sourceURL=js_ab3d688e22"
            ],
            "text/plain": [
              "<IPython.core.display.Javascript object>"
            ]
          },
          "metadata": {
            "tags": [
              "id4-0-0",
              "outputarea_id4"
            ]
          }
        },
        {
          "output_type": "display_data",
          "data": {
            "application/javascript": [
              "window[\"77beeb0a-d451-11e8-8306-0242ac1c0002\"] = google.colab.output.getActiveOutputArea();\n",
              "//# sourceURL=js_a722d2a994"
            ],
            "text/plain": [
              "<IPython.core.display.Javascript object>"
            ]
          },
          "metadata": {
            "tags": [
              "id4-0-0",
              "outputarea_id4"
            ]
          }
        },
        {
          "output_type": "display_data",
          "data": {
            "application/javascript": [
              "window[\"77bf77fa-d451-11e8-8306-0242ac1c0002\"] = document.querySelector(\"#id4-0-0\");\n",
              "//# sourceURL=js_8cc71aa16c"
            ],
            "text/plain": [
              "<IPython.core.display.Javascript object>"
            ]
          },
          "metadata": {
            "tags": [
              "id4-0-0",
              "outputarea_id4"
            ]
          }
        },
        {
          "output_type": "display_data",
          "data": {
            "application/javascript": [
              "window[\"77c01bb0-d451-11e8-8306-0242ac1c0002\"] = google.colab.output.setActiveOutputArea(window[\"77bf77fa-d451-11e8-8306-0242ac1c0002\"]);\n",
              "//# sourceURL=js_e54120fd57"
            ],
            "text/plain": [
              "<IPython.core.display.Javascript object>"
            ]
          },
          "metadata": {
            "tags": [
              "id4-0-0",
              "outputarea_id4"
            ]
          }
        },
        {
          "output_type": "display_data",
          "data": {
            "application/javascript": [
              "window[\"77c1d144-d451-11e8-8306-0242ac1c0002\"] = google.colab.output.setActiveOutputArea(window[\"77beeb0a-d451-11e8-8306-0242ac1c0002\"]);\n",
              "//# sourceURL=js_968ba195cb"
            ],
            "text/plain": [
              "<IPython.core.display.Javascript object>"
            ]
          },
          "metadata": {
            "tags": [
              "id4-0-0",
              "outputarea_id4"
            ]
          }
        },
        {
          "output_type": "display_data",
          "data": {
            "application/javascript": [
              "window[\"77cf814a-d451-11e8-8306-0242ac1c0002\"] = google.colab.output.getActiveOutputArea();\n",
              "//# sourceURL=js_ad50a73a87"
            ],
            "text/plain": [
              "<IPython.core.display.Javascript object>"
            ]
          },
          "metadata": {
            "tags": [
              "id4-0-0",
              "outputarea_id4"
            ]
          }
        },
        {
          "output_type": "display_data",
          "data": {
            "application/javascript": [
              "window[\"77cffc2e-d451-11e8-8306-0242ac1c0002\"] = document.querySelector(\"#id4-0-0\");\n",
              "//# sourceURL=js_25be72c7b4"
            ],
            "text/plain": [
              "<IPython.core.display.Javascript object>"
            ]
          },
          "metadata": {
            "tags": [
              "id4-0-0",
              "outputarea_id4"
            ]
          }
        },
        {
          "output_type": "display_data",
          "data": {
            "application/javascript": [
              "window[\"77d05106-d451-11e8-8306-0242ac1c0002\"] = google.colab.output.setActiveOutputArea(window[\"77cffc2e-d451-11e8-8306-0242ac1c0002\"]);\n",
              "//# sourceURL=js_03990f8783"
            ],
            "text/plain": [
              "<IPython.core.display.Javascript object>"
            ]
          },
          "metadata": {
            "tags": [
              "id4-0-0",
              "outputarea_id4"
            ]
          }
        },
        {
          "output_type": "display_data",
          "data": {
            "application/javascript": [
              "window[\"77d256ae-d451-11e8-8306-0242ac1c0002\"] = google.colab.output.setActiveOutputArea(window[\"77cf814a-d451-11e8-8306-0242ac1c0002\"]);\n",
              "//# sourceURL=js_e997d0cab4"
            ],
            "text/plain": [
              "<IPython.core.display.Javascript object>"
            ]
          },
          "metadata": {
            "tags": [
              "id4-0-0",
              "outputarea_id4"
            ]
          }
        },
        {
          "output_type": "display_data",
          "data": {
            "application/javascript": [
              "window[\"77ddf6ee-d451-11e8-8306-0242ac1c0002\"] = google.colab.output.getActiveOutputArea();\n",
              "//# sourceURL=js_f94f929da3"
            ],
            "text/plain": [
              "<IPython.core.display.Javascript object>"
            ]
          },
          "metadata": {
            "tags": [
              "id4-0-0",
              "outputarea_id4"
            ]
          }
        },
        {
          "output_type": "display_data",
          "data": {
            "application/javascript": [
              "window[\"77de73ee-d451-11e8-8306-0242ac1c0002\"] = document.querySelector(\"#id4-0-0\");\n",
              "//# sourceURL=js_c6b515f13a"
            ],
            "text/plain": [
              "<IPython.core.display.Javascript object>"
            ]
          },
          "metadata": {
            "tags": [
              "id4-0-0",
              "outputarea_id4"
            ]
          }
        },
        {
          "output_type": "display_data",
          "data": {
            "application/javascript": [
              "window[\"77decc72-d451-11e8-8306-0242ac1c0002\"] = google.colab.output.setActiveOutputArea(window[\"77de73ee-d451-11e8-8306-0242ac1c0002\"]);\n",
              "//# sourceURL=js_b4b94f2f33"
            ],
            "text/plain": [
              "<IPython.core.display.Javascript object>"
            ]
          },
          "metadata": {
            "tags": [
              "id4-0-0",
              "outputarea_id4"
            ]
          }
        },
        {
          "output_type": "display_data",
          "data": {
            "application/javascript": [
              "window[\"77e09534-d451-11e8-8306-0242ac1c0002\"] = google.colab.output.setActiveOutputArea(window[\"77ddf6ee-d451-11e8-8306-0242ac1c0002\"]);\n",
              "//# sourceURL=js_dc8607ef2d"
            ],
            "text/plain": [
              "<IPython.core.display.Javascript object>"
            ]
          },
          "metadata": {
            "tags": [
              "id4-0-0",
              "outputarea_id4"
            ]
          }
        },
        {
          "output_type": "display_data",
          "data": {
            "application/javascript": [
              "window[\"77ec84c0-d451-11e8-8306-0242ac1c0002\"] = google.colab.output.getActiveOutputArea();\n",
              "//# sourceURL=js_142d0d92a0"
            ],
            "text/plain": [
              "<IPython.core.display.Javascript object>"
            ]
          },
          "metadata": {
            "tags": [
              "id4-0-0",
              "outputarea_id4"
            ]
          }
        },
        {
          "output_type": "display_data",
          "data": {
            "application/javascript": [
              "window[\"77ecce94-d451-11e8-8306-0242ac1c0002\"] = document.querySelector(\"#id4-0-0\");\n",
              "//# sourceURL=js_c181888276"
            ],
            "text/plain": [
              "<IPython.core.display.Javascript object>"
            ]
          },
          "metadata": {
            "tags": [
              "id4-0-0",
              "outputarea_id4"
            ]
          }
        },
        {
          "output_type": "display_data",
          "data": {
            "application/javascript": [
              "window[\"77ed1782-d451-11e8-8306-0242ac1c0002\"] = google.colab.output.setActiveOutputArea(window[\"77ecce94-d451-11e8-8306-0242ac1c0002\"]);\n",
              "//# sourceURL=js_2d88db3de9"
            ],
            "text/plain": [
              "<IPython.core.display.Javascript object>"
            ]
          },
          "metadata": {
            "tags": [
              "id4-0-0",
              "outputarea_id4"
            ]
          }
        },
        {
          "output_type": "display_data",
          "data": {
            "application/javascript": [
              "window[\"77ee59da-d451-11e8-8306-0242ac1c0002\"] = google.colab.output.setActiveOutputArea(window[\"77ec84c0-d451-11e8-8306-0242ac1c0002\"]);\n",
              "//# sourceURL=js_731432571f"
            ],
            "text/plain": [
              "<IPython.core.display.Javascript object>"
            ]
          },
          "metadata": {
            "tags": [
              "id4-0-0",
              "outputarea_id4"
            ]
          }
        },
        {
          "output_type": "display_data",
          "data": {
            "application/javascript": [
              "window[\"77fb0658-d451-11e8-8306-0242ac1c0002\"] = google.colab.output.getActiveOutputArea();\n",
              "//# sourceURL=js_dc4bae21e3"
            ],
            "text/plain": [
              "<IPython.core.display.Javascript object>"
            ]
          },
          "metadata": {
            "tags": [
              "id4-0-0",
              "outputarea_id4"
            ]
          }
        },
        {
          "output_type": "display_data",
          "data": {
            "application/javascript": [
              "window[\"77fb8a42-d451-11e8-8306-0242ac1c0002\"] = document.querySelector(\"#id4-0-0\");\n",
              "//# sourceURL=js_97b7a36419"
            ],
            "text/plain": [
              "<IPython.core.display.Javascript object>"
            ]
          },
          "metadata": {
            "tags": [
              "id4-0-0",
              "outputarea_id4"
            ]
          }
        },
        {
          "output_type": "display_data",
          "data": {
            "application/javascript": [
              "window[\"77fbdc86-d451-11e8-8306-0242ac1c0002\"] = google.colab.output.setActiveOutputArea(window[\"77fb8a42-d451-11e8-8306-0242ac1c0002\"]);\n",
              "//# sourceURL=js_59dec69c19"
            ],
            "text/plain": [
              "<IPython.core.display.Javascript object>"
            ]
          },
          "metadata": {
            "tags": [
              "id4-0-0",
              "outputarea_id4"
            ]
          }
        },
        {
          "output_type": "display_data",
          "data": {
            "application/javascript": [
              "window[\"77fd7514-d451-11e8-8306-0242ac1c0002\"] = google.colab.output.setActiveOutputArea(window[\"77fb0658-d451-11e8-8306-0242ac1c0002\"]);\n",
              "//# sourceURL=js_903086bdf0"
            ],
            "text/plain": [
              "<IPython.core.display.Javascript object>"
            ]
          },
          "metadata": {
            "tags": [
              "id4-0-0",
              "outputarea_id4"
            ]
          }
        },
        {
          "output_type": "display_data",
          "data": {
            "application/javascript": [
              "window[\"7809747c-d451-11e8-8306-0242ac1c0002\"] = google.colab.output.getActiveOutputArea();\n",
              "//# sourceURL=js_cacdc4e614"
            ],
            "text/plain": [
              "<IPython.core.display.Javascript object>"
            ]
          },
          "metadata": {
            "tags": [
              "id4-0-0",
              "outputarea_id4"
            ]
          }
        },
        {
          "output_type": "display_data",
          "data": {
            "application/javascript": [
              "window[\"7809d4bc-d451-11e8-8306-0242ac1c0002\"] = document.querySelector(\"#id4-0-0\");\n",
              "//# sourceURL=js_60be0d9e39"
            ],
            "text/plain": [
              "<IPython.core.display.Javascript object>"
            ]
          },
          "metadata": {
            "tags": [
              "id4-0-0",
              "outputarea_id4"
            ]
          }
        },
        {
          "output_type": "display_data",
          "data": {
            "application/javascript": [
              "window[\"780a25e8-d451-11e8-8306-0242ac1c0002\"] = google.colab.output.setActiveOutputArea(window[\"7809d4bc-d451-11e8-8306-0242ac1c0002\"]);\n",
              "//# sourceURL=js_10fde6058b"
            ],
            "text/plain": [
              "<IPython.core.display.Javascript object>"
            ]
          },
          "metadata": {
            "tags": [
              "id4-0-0",
              "outputarea_id4"
            ]
          }
        },
        {
          "output_type": "display_data",
          "data": {
            "application/javascript": [
              "window[\"780bbd90-d451-11e8-8306-0242ac1c0002\"] = google.colab.output.setActiveOutputArea(window[\"7809747c-d451-11e8-8306-0242ac1c0002\"]);\n",
              "//# sourceURL=js_b4b4173ee7"
            ],
            "text/plain": [
              "<IPython.core.display.Javascript object>"
            ]
          },
          "metadata": {
            "tags": [
              "id4-0-0",
              "outputarea_id4"
            ]
          }
        },
        {
          "output_type": "error",
          "ename": "KeyboardInterrupt",
          "evalue": "ignored",
          "traceback": [
            "\u001b[0;31m---------------------------------------------------------------------------\u001b[0m",
            "\u001b[0;31mKeyboardInterrupt\u001b[0m                         Traceback (most recent call last)",
            "\u001b[0;32m<ipython-input-35-db293fa66619>\u001b[0m in \u001b[0;36m<module>\u001b[0;34m()\u001b[0m\n\u001b[1;32m      4\u001b[0m \u001b[0moptimizer\u001b[0m \u001b[0;34m=\u001b[0m \u001b[0moptim\u001b[0m\u001b[0;34m.\u001b[0m\u001b[0mSGD\u001b[0m\u001b[0;34m(\u001b[0m\u001b[0mmodel\u001b[0m\u001b[0;34m.\u001b[0m\u001b[0mparameters\u001b[0m\u001b[0;34m(\u001b[0m\u001b[0;34m)\u001b[0m\u001b[0;34m,\u001b[0m \u001b[0mlr\u001b[0m\u001b[0;34m=\u001b[0m\u001b[0;36m0.01\u001b[0m\u001b[0;34m,\u001b[0m \u001b[0mmomentum\u001b[0m\u001b[0;34m=\u001b[0m\u001b[0;36m0.9\u001b[0m\u001b[0;34m,\u001b[0m \u001b[0mnesterov\u001b[0m\u001b[0;34m=\u001b[0m\u001b[0;32mTrue\u001b[0m\u001b[0;34m)\u001b[0m\u001b[0;34m\u001b[0m\u001b[0m\n\u001b[1;32m      5\u001b[0m \u001b[0;34m\u001b[0m\u001b[0m\n\u001b[0;32m----> 6\u001b[0;31m \u001b[0mtrain\u001b[0m\u001b[0;34m(\u001b[0m\u001b[0moptimizer\u001b[0m\u001b[0;34m,\u001b[0m \u001b[0mmodel\u001b[0m\u001b[0;34m,\u001b[0m \u001b[0;36m10\u001b[0m\u001b[0;34m)\u001b[0m\u001b[0;34m\u001b[0m\u001b[0m\n\u001b[0m",
            "\u001b[0;32m<ipython-input-33-e806de8fb5e4>\u001b[0m in \u001b[0;36mtrain\u001b[0;34m(optimizer, model, num_epochs, first_epoch)\u001b[0m\n\u001b[1;32m     21\u001b[0m         \u001b[0mtrain_loss\u001b[0m \u001b[0;34m=\u001b[0m \u001b[0mMovingAverage\u001b[0m\u001b[0;34m(\u001b[0m\u001b[0;34m)\u001b[0m\u001b[0;34m\u001b[0m\u001b[0m\n\u001b[1;32m     22\u001b[0m \u001b[0;34m\u001b[0m\u001b[0m\n\u001b[0;32m---> 23\u001b[0;31m         \u001b[0;32mfor\u001b[0m \u001b[0mbatch\u001b[0m\u001b[0;34m,\u001b[0m \u001b[0mtargets\u001b[0m \u001b[0;32min\u001b[0m \u001b[0mtrain_loader\u001b[0m\u001b[0;34m:\u001b[0m\u001b[0;34m\u001b[0m\u001b[0m\n\u001b[0m\u001b[1;32m     24\u001b[0m             \u001b[0;31m# Move the training data to the GPU\u001b[0m\u001b[0;34m\u001b[0m\u001b[0;34m\u001b[0m\u001b[0m\n\u001b[1;32m     25\u001b[0m             \u001b[0mbatch\u001b[0m \u001b[0;34m=\u001b[0m \u001b[0mbatch\u001b[0m\u001b[0;34m.\u001b[0m\u001b[0mto\u001b[0m\u001b[0;34m(\u001b[0m\u001b[0mdevice\u001b[0m\u001b[0;34m)\u001b[0m\u001b[0;34m\u001b[0m\u001b[0m\n",
            "\u001b[0;32m/usr/local/lib/python3.6/dist-packages/torch/utils/data/dataloader.py\u001b[0m in \u001b[0;36m__next__\u001b[0;34m(self)\u001b[0m\n\u001b[1;32m    312\u001b[0m         \u001b[0;32mif\u001b[0m \u001b[0mself\u001b[0m\u001b[0;34m.\u001b[0m\u001b[0mnum_workers\u001b[0m \u001b[0;34m==\u001b[0m \u001b[0;36m0\u001b[0m\u001b[0;34m:\u001b[0m  \u001b[0;31m# same-process loading\u001b[0m\u001b[0;34m\u001b[0m\u001b[0m\n\u001b[1;32m    313\u001b[0m             \u001b[0mindices\u001b[0m \u001b[0;34m=\u001b[0m \u001b[0mnext\u001b[0m\u001b[0;34m(\u001b[0m\u001b[0mself\u001b[0m\u001b[0;34m.\u001b[0m\u001b[0msample_iter\u001b[0m\u001b[0;34m)\u001b[0m  \u001b[0;31m# may raise StopIteration\u001b[0m\u001b[0;34m\u001b[0m\u001b[0m\n\u001b[0;32m--> 314\u001b[0;31m             \u001b[0mbatch\u001b[0m \u001b[0;34m=\u001b[0m \u001b[0mself\u001b[0m\u001b[0;34m.\u001b[0m\u001b[0mcollate_fn\u001b[0m\u001b[0;34m(\u001b[0m\u001b[0;34m[\u001b[0m\u001b[0mself\u001b[0m\u001b[0;34m.\u001b[0m\u001b[0mdataset\u001b[0m\u001b[0;34m[\u001b[0m\u001b[0mi\u001b[0m\u001b[0;34m]\u001b[0m \u001b[0;32mfor\u001b[0m \u001b[0mi\u001b[0m \u001b[0;32min\u001b[0m \u001b[0mindices\u001b[0m\u001b[0;34m]\u001b[0m\u001b[0;34m)\u001b[0m\u001b[0;34m\u001b[0m\u001b[0m\n\u001b[0m\u001b[1;32m    315\u001b[0m             \u001b[0;32mif\u001b[0m \u001b[0mself\u001b[0m\u001b[0;34m.\u001b[0m\u001b[0mpin_memory\u001b[0m\u001b[0;34m:\u001b[0m\u001b[0;34m\u001b[0m\u001b[0m\n\u001b[1;32m    316\u001b[0m                 \u001b[0mbatch\u001b[0m \u001b[0;34m=\u001b[0m \u001b[0mpin_memory_batch\u001b[0m\u001b[0;34m(\u001b[0m\u001b[0mbatch\u001b[0m\u001b[0;34m)\u001b[0m\u001b[0;34m\u001b[0m\u001b[0m\n",
            "\u001b[0;32m/usr/local/lib/python3.6/dist-packages/torch/utils/data/dataloader.py\u001b[0m in \u001b[0;36m<listcomp>\u001b[0;34m(.0)\u001b[0m\n\u001b[1;32m    312\u001b[0m         \u001b[0;32mif\u001b[0m \u001b[0mself\u001b[0m\u001b[0;34m.\u001b[0m\u001b[0mnum_workers\u001b[0m \u001b[0;34m==\u001b[0m \u001b[0;36m0\u001b[0m\u001b[0;34m:\u001b[0m  \u001b[0;31m# same-process loading\u001b[0m\u001b[0;34m\u001b[0m\u001b[0m\n\u001b[1;32m    313\u001b[0m             \u001b[0mindices\u001b[0m \u001b[0;34m=\u001b[0m \u001b[0mnext\u001b[0m\u001b[0;34m(\u001b[0m\u001b[0mself\u001b[0m\u001b[0;34m.\u001b[0m\u001b[0msample_iter\u001b[0m\u001b[0;34m)\u001b[0m  \u001b[0;31m# may raise StopIteration\u001b[0m\u001b[0;34m\u001b[0m\u001b[0m\n\u001b[0;32m--> 314\u001b[0;31m             \u001b[0mbatch\u001b[0m \u001b[0;34m=\u001b[0m \u001b[0mself\u001b[0m\u001b[0;34m.\u001b[0m\u001b[0mcollate_fn\u001b[0m\u001b[0;34m(\u001b[0m\u001b[0;34m[\u001b[0m\u001b[0mself\u001b[0m\u001b[0;34m.\u001b[0m\u001b[0mdataset\u001b[0m\u001b[0;34m[\u001b[0m\u001b[0mi\u001b[0m\u001b[0;34m]\u001b[0m \u001b[0;32mfor\u001b[0m \u001b[0mi\u001b[0m \u001b[0;32min\u001b[0m \u001b[0mindices\u001b[0m\u001b[0;34m]\u001b[0m\u001b[0;34m)\u001b[0m\u001b[0;34m\u001b[0m\u001b[0m\n\u001b[0m\u001b[1;32m    315\u001b[0m             \u001b[0;32mif\u001b[0m \u001b[0mself\u001b[0m\u001b[0;34m.\u001b[0m\u001b[0mpin_memory\u001b[0m\u001b[0;34m:\u001b[0m\u001b[0;34m\u001b[0m\u001b[0m\n\u001b[1;32m    316\u001b[0m                 \u001b[0mbatch\u001b[0m \u001b[0;34m=\u001b[0m \u001b[0mpin_memory_batch\u001b[0m\u001b[0;34m(\u001b[0m\u001b[0mbatch\u001b[0m\u001b[0;34m)\u001b[0m\u001b[0;34m\u001b[0m\u001b[0m\n",
            "\u001b[0;32m/usr/local/lib/python3.6/dist-packages/torchvision/datasets/mnist.py\u001b[0m in \u001b[0;36m__getitem__\u001b[0;34m(self, index)\u001b[0m\n\u001b[1;32m     72\u001b[0m         \u001b[0;31m# doing this so that it is consistent with all other datasets\u001b[0m\u001b[0;34m\u001b[0m\u001b[0;34m\u001b[0m\u001b[0m\n\u001b[1;32m     73\u001b[0m         \u001b[0;31m# to return a PIL Image\u001b[0m\u001b[0;34m\u001b[0m\u001b[0;34m\u001b[0m\u001b[0m\n\u001b[0;32m---> 74\u001b[0;31m         \u001b[0mimg\u001b[0m \u001b[0;34m=\u001b[0m \u001b[0mImage\u001b[0m\u001b[0;34m.\u001b[0m\u001b[0mfromarray\u001b[0m\u001b[0;34m(\u001b[0m\u001b[0mimg\u001b[0m\u001b[0;34m.\u001b[0m\u001b[0mnumpy\u001b[0m\u001b[0;34m(\u001b[0m\u001b[0;34m)\u001b[0m\u001b[0;34m,\u001b[0m \u001b[0mmode\u001b[0m\u001b[0;34m=\u001b[0m\u001b[0;34m'L'\u001b[0m\u001b[0;34m)\u001b[0m\u001b[0;34m\u001b[0m\u001b[0m\n\u001b[0m\u001b[1;32m     75\u001b[0m \u001b[0;34m\u001b[0m\u001b[0m\n\u001b[1;32m     76\u001b[0m         \u001b[0;32mif\u001b[0m \u001b[0mself\u001b[0m\u001b[0;34m.\u001b[0m\u001b[0mtransform\u001b[0m \u001b[0;32mis\u001b[0m \u001b[0;32mnot\u001b[0m \u001b[0;32mNone\u001b[0m\u001b[0;34m:\u001b[0m\u001b[0;34m\u001b[0m\u001b[0m\n",
            "\u001b[0;32m/usr/local/lib/python3.6/dist-packages/PIL/Image.py\u001b[0m in \u001b[0;36mfromarray\u001b[0;34m(obj, mode)\u001b[0m\n\u001b[1;32m   2215\u001b[0m             \u001b[0msw\u001b[0m \u001b[0;34m=\u001b[0m \u001b[0mdata\u001b[0m\u001b[0;34m[\u001b[0m\u001b[0;36m2\u001b[0m\u001b[0;34m:\u001b[0m\u001b[0;36m4\u001b[0m\u001b[0;34m]\u001b[0m\u001b[0;34m\u001b[0m\u001b[0m\n\u001b[1;32m   2216\u001b[0m             \u001b[0mse\u001b[0m \u001b[0;34m=\u001b[0m \u001b[0mdata\u001b[0m\u001b[0;34m[\u001b[0m\u001b[0;36m4\u001b[0m\u001b[0;34m:\u001b[0m\u001b[0;36m6\u001b[0m\u001b[0;34m]\u001b[0m\u001b[0;34m\u001b[0m\u001b[0m\n\u001b[0;32m-> 2217\u001b[0;31m             \u001b[0mne\u001b[0m \u001b[0;34m=\u001b[0m \u001b[0mdata\u001b[0m\u001b[0;34m[\u001b[0m\u001b[0;36m6\u001b[0m\u001b[0;34m:\u001b[0m\u001b[0;36m8\u001b[0m\u001b[0;34m]\u001b[0m\u001b[0;34m\u001b[0m\u001b[0m\n\u001b[0m\u001b[1;32m   2218\u001b[0m             \u001b[0mx0\u001b[0m\u001b[0;34m,\u001b[0m \u001b[0my0\u001b[0m \u001b[0;34m=\u001b[0m \u001b[0mnw\u001b[0m\u001b[0;34m\u001b[0m\u001b[0m\n\u001b[1;32m   2219\u001b[0m             \u001b[0mAs\u001b[0m \u001b[0;34m=\u001b[0m \u001b[0;36m1.0\u001b[0m \u001b[0;34m/\u001b[0m \u001b[0mw\u001b[0m\u001b[0;34m\u001b[0m\u001b[0m\n",
            "\u001b[0;32m/usr/local/lib/python3.6/dist-packages/PIL/Image.py\u001b[0m in \u001b[0;36mfrombuffer\u001b[0;34m(mode, size, data, decoder_name, *args)\u001b[0m\n\u001b[1;32m   2158\u001b[0m            \u001b[0;32min\u001b[0m \u001b[0mthe\u001b[0m \u001b[0moutput\u001b[0m \u001b[0mimage\u001b[0m\u001b[0;34m.\u001b[0m\u001b[0;34m\u001b[0m\u001b[0m\n\u001b[1;32m   2159\u001b[0m         \u001b[0;34m:\u001b[0m\u001b[0mreturns\u001b[0m\u001b[0;34m:\u001b[0m \u001b[0mAn\u001b[0m \u001b[0;34m:\u001b[0m\u001b[0mpy\u001b[0m\u001b[0;34m:\u001b[0m\u001b[0;32mclass\u001b[0m\u001b[0;34m:\u001b[0m\u001b[0;31m`\u001b[0m\u001b[0;34m~\u001b[0m\u001b[0mPIL\u001b[0m\u001b[0;34m.\u001b[0m\u001b[0mImage\u001b[0m\u001b[0;34m.\u001b[0m\u001b[0mImage\u001b[0m\u001b[0;31m`\u001b[0m \u001b[0mobject\u001b[0m\u001b[0;34m.\u001b[0m\u001b[0;34m\u001b[0m\u001b[0m\n\u001b[0;32m-> 2160\u001b[0;31m         \"\"\"\n\u001b[0m\u001b[1;32m   2161\u001b[0m \u001b[0;34m\u001b[0m\u001b[0m\n\u001b[1;32m   2162\u001b[0m         \u001b[0;32mif\u001b[0m \u001b[0mself\u001b[0m\u001b[0;34m.\u001b[0m\u001b[0mmode\u001b[0m \u001b[0;34m==\u001b[0m \u001b[0;34m'LA'\u001b[0m\u001b[0;34m:\u001b[0m\u001b[0;34m\u001b[0m\u001b[0m\n",
            "\u001b[0;32m/usr/local/lib/python3.6/dist-packages/PIL/Image.py\u001b[0m in \u001b[0;36mnew\u001b[0;34m(mode, size, color)\u001b[0m\n\u001b[1;32m   2061\u001b[0m     \u001b[0;32mdef\u001b[0m \u001b[0mtell\u001b[0m\u001b[0;34m(\u001b[0m\u001b[0mself\u001b[0m\u001b[0;34m)\u001b[0m\u001b[0;34m:\u001b[0m\u001b[0;34m\u001b[0m\u001b[0m\n\u001b[1;32m   2062\u001b[0m         \"\"\"\n\u001b[0;32m-> 2063\u001b[0;31m         \u001b[0mReturns\u001b[0m \u001b[0mthe\u001b[0m \u001b[0mcurrent\u001b[0m \u001b[0mframe\u001b[0m \u001b[0mnumber\u001b[0m\u001b[0;34m.\u001b[0m \u001b[0mSee\u001b[0m \u001b[0;34m:\u001b[0m\u001b[0mpy\u001b[0m\u001b[0;34m:\u001b[0m\u001b[0mmeth\u001b[0m\u001b[0;34m:\u001b[0m\u001b[0;31m`\u001b[0m\u001b[0;34m~\u001b[0m\u001b[0mPIL\u001b[0m\u001b[0;34m.\u001b[0m\u001b[0mImage\u001b[0m\u001b[0;34m.\u001b[0m\u001b[0mImage\u001b[0m\u001b[0;34m.\u001b[0m\u001b[0mseek\u001b[0m\u001b[0;31m`\u001b[0m\u001b[0;34m.\u001b[0m\u001b[0;34m\u001b[0m\u001b[0m\n\u001b[0m\u001b[1;32m   2064\u001b[0m \u001b[0;34m\u001b[0m\u001b[0m\n\u001b[1;32m   2065\u001b[0m         \u001b[0;34m:\u001b[0m\u001b[0mreturns\u001b[0m\u001b[0;34m:\u001b[0m \u001b[0mFrame\u001b[0m \u001b[0mnumber\u001b[0m\u001b[0;34m,\u001b[0m \u001b[0mstarting\u001b[0m \u001b[0;32mwith\u001b[0m \u001b[0;36m0.\u001b[0m\u001b[0;34m\u001b[0m\u001b[0m\n",
            "\u001b[0;32m/usr/local/lib/python3.6/dist-packages/PIL/Image.py\u001b[0m in \u001b[0;36m__init__\u001b[0;34m(self)\u001b[0m\n\u001b[1;32m    505\u001b[0m             \u001b[0;32mreturn\u001b[0m \u001b[0mc\u001b[0m\u001b[0;34m,\u001b[0m \u001b[0me\u001b[0m\u001b[0;34m\u001b[0m\u001b[0m\n\u001b[1;32m    506\u001b[0m     \u001b[0;32mexcept\u001b[0m \u001b[0mTypeError\u001b[0m\u001b[0;34m:\u001b[0m\u001b[0;34m\u001b[0m\u001b[0m\n\u001b[0;32m--> 507\u001b[0;31m         \u001b[0;32mpass\u001b[0m\u001b[0;34m\u001b[0m\u001b[0m\n\u001b[0m\u001b[1;32m    508\u001b[0m     \u001b[0;32mraise\u001b[0m \u001b[0mValueError\u001b[0m\u001b[0;34m(\u001b[0m\u001b[0;34m\"illegal expression\"\u001b[0m\u001b[0;34m)\u001b[0m\u001b[0;34m\u001b[0m\u001b[0m\n\u001b[1;32m    509\u001b[0m \u001b[0;34m\u001b[0m\u001b[0m\n",
            "\u001b[0;31mKeyboardInterrupt\u001b[0m: "
          ]
        }
      ]
    },
    {
      "cell_type": "code",
      "metadata": {
        "id": "eVpGyJOkogEV",
        "colab_type": "code",
        "colab": {}
      },
      "source": [
        ""
      ],
      "execution_count": 0,
      "outputs": []
    }
  ]
}